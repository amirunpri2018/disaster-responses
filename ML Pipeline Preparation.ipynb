{
 "cells": [
  {
   "cell_type": "markdown",
   "metadata": {},
   "source": [
    "# ML Pipeline Preparation\n",
    "Follow the instructions below to help you create your ML pipeline.\n",
    "### 1. Import libraries and load data from database.\n",
    "- Import Python libraries\n",
    "- Load dataset from database with [`read_sql_table`](https://pandas.pydata.org/pandas-docs/stable/generated/pandas.read_sql_table.html)\n",
    "- Define feature and target variables X and Y"
   ]
  },
  {
   "cell_type": "code",
   "execution_count": 1,
   "metadata": {},
   "outputs": [
    {
     "name": "stderr",
     "output_type": "stream",
     "text": "[nltk_data] Downloading package punkt to\n[nltk_data]     /Users/dhaneswaramandrasat/nltk_data...\n[nltk_data]   Package punkt is already up-to-date!\n[nltk_data] Downloading package stopwords to\n[nltk_data]     /Users/dhaneswaramandrasat/nltk_data...\n[nltk_data]   Package stopwords is already up-to-date!\n[nltk_data] Downloading package wordnet to\n[nltk_data]     /Users/dhaneswaramandrasat/nltk_data...\n[nltk_data]   Package wordnet is already up-to-date!\n"
    }
   ],
   "source": [
    "# import libraries\n",
    "import pandas as pd\n",
    "import numpy as np\n",
    "from sqlalchemy import create_engine\n",
    "\n",
    "import re\n",
    "import nltk\n",
    "from nltk.corpus import stopwords\n",
    "from nltk.stem.wordnet import WordNetLemmatizer\n",
    "from nltk.tokenize import word_tokenize\n",
    "\n",
    "nltk.download('punkt')\n",
    "nltk.download('stopwords')\n",
    "nltk.download('wordnet')\n",
    "\n",
    "from sklearn.pipeline import Pipeline, FeatureUnion\n",
    "from sklearn.feature_extraction.text import CountVectorizer, TfidfTransformer\n",
    "from sklearn.multioutput import MultiOutputClassifier\n",
    "from sklearn.linear_model import LogisticRegression\n",
    "from sklearn.ensemble import RandomForestClassifier\n",
    "from sklearn.naive_bayes import MultinomialNB\n",
    "from sklearn.svm import LinearSVC\n",
    "\n",
    "from sklearn.model_selection import train_test_split\n",
    "from sklearn.model_selection import GridSearchCV\n",
    "\n",
    "from sklearn.metrics import confusion_matrix, classification_report\n",
    "from sklearn.base import BaseEstimator, TransformerMixin\n",
    "from sklearn.model_selection import GridSearchCV, RepeatedKFold"
   ]
  },
  {
   "cell_type": "code",
   "execution_count": 2,
   "metadata": {},
   "outputs": [],
   "source": [
    "# load data from database\n",
    "engine = create_engine('sqlite:///DisasterResponse.db')\n",
    "df =  pd.read_sql(\"SELECT * FROM messages\", engine)\n",
    "X = df['message'].values\n",
    "y = df.drop(['id','message','original','genre'], axis=1).values"
   ]
  },
  {
   "cell_type": "code",
   "execution_count": 5,
   "metadata": {},
   "outputs": [
    {
     "data": {
      "text/plain": [
       "(array([], dtype=int64), array([], dtype=int64))"
      ]
     },
     "execution_count": 5,
     "metadata": {},
     "output_type": "execute_result"
    }
   ],
   "source": [
    "np.where(y > 1)"
   ]
  },
  {
   "cell_type": "markdown",
   "metadata": {},
   "source": [
    "### 2. Write a tokenization function to process your text data"
   ]
  },
  {
   "cell_type": "code",
   "execution_count": 3,
   "metadata": {},
   "outputs": [],
   "source": [
    "def tokenize(text):\n",
    "    \n",
    "    text = re.sub(r\"[^a-zA-Z0-9]\",\" \", text.lower())\n",
    "    \n",
    "    text = word_tokenize(text)\n",
    "    \n",
    "    tokens = [WordNetLemmatizer().lemmatize(w) for w in text if w not in stopwords.words(\"english\")]\n",
    "    \n",
    "    return tokens"
   ]
  },
  {
   "cell_type": "markdown",
   "metadata": {},
   "source": [
    "### 3. Build a machine learning pipeline\n",
    "This machine pipeline should take in the `message` column as input and output classification results on the other 36 categories in the dataset. You may find the [MultiOutputClassifier](http://scikit-learn.org/stable/modules/generated/sklearn.multioutput.MultiOutputClassifier.html) helpful for predicting multiple target variables."
   ]
  },
  {
   "cell_type": "code",
   "execution_count": 32,
   "metadata": {},
   "outputs": [],
   "source": [
    "\n",
    "pipeline = Pipeline([\n",
    "    ('vect', CountVectorizer(tokenizer=tokenize)),\n",
    "    ('tfidf', TfidfTransformer()),\n",
    "    ('clf', MultiOutputClassifier(RandomForestClassifier()))  \n",
    "])"
   ]
  },
  {
   "cell_type": "code",
   "execution_count": 115,
   "metadata": {},
   "outputs": [
    {
     "data": {
      "text/plain": [
       "{'memory': None,\n",
       " 'steps': [('vect',\n",
       "   CountVectorizer(analyzer='word', binary=False, decode_error='strict',\n",
       "                   dtype=<class 'numpy.int64'>, encoding='utf-8', input='content',\n",
       "                   lowercase=True, max_df=1.0, max_features=None, min_df=1,\n",
       "                   ngram_range=(1, 1), preprocessor=None, stop_words=None,\n",
       "                   strip_accents=None, token_pattern='(?u)\\\\b\\\\w\\\\w+\\\\b',\n",
       "                   tokenizer=<function tokenize at 0x171938940>, vocabulary=None)),\n",
       "  ('tfidf',\n",
       "   TfidfTransformer(norm='l2', smooth_idf=True, sublinear_tf=False, use_idf=True)),\n",
       "  ('clf',\n",
       "   MultiOutputClassifier(estimator=RandomForestClassifier(bootstrap=True,\n",
       "                                                          ccp_alpha=0.0,\n",
       "                                                          class_weight=None,\n",
       "                                                          criterion='gini',\n",
       "                                                          max_depth=None,\n",
       "                                                          max_features='auto',\n",
       "                                                          max_leaf_nodes=None,\n",
       "                                                          max_samples=None,\n",
       "                                                          min_impurity_decrease=0.0,\n",
       "                                                          min_impurity_split=None,\n",
       "                                                          min_samples_leaf=1,\n",
       "                                                          min_samples_split=2,\n",
       "                                                          min_weight_fraction_leaf=0.0,\n",
       "                                                          n_estimators=100,\n",
       "                                                          n_jobs=None,\n",
       "                                                          oob_score=False,\n",
       "                                                          random_state=None,\n",
       "                                                          verbose=0,\n",
       "                                                          warm_start=False),\n",
       "                         n_jobs=None))],\n",
       " 'verbose': False,\n",
       " 'vect': CountVectorizer(analyzer='word', binary=False, decode_error='strict',\n",
       "                 dtype=<class 'numpy.int64'>, encoding='utf-8', input='content',\n",
       "                 lowercase=True, max_df=1.0, max_features=None, min_df=1,\n",
       "                 ngram_range=(1, 1), preprocessor=None, stop_words=None,\n",
       "                 strip_accents=None, token_pattern='(?u)\\\\b\\\\w\\\\w+\\\\b',\n",
       "                 tokenizer=<function tokenize at 0x171938940>, vocabulary=None),\n",
       " 'tfidf': TfidfTransformer(norm='l2', smooth_idf=True, sublinear_tf=False, use_idf=True),\n",
       " 'clf': MultiOutputClassifier(estimator=RandomForestClassifier(bootstrap=True,\n",
       "                                                        ccp_alpha=0.0,\n",
       "                                                        class_weight=None,\n",
       "                                                        criterion='gini',\n",
       "                                                        max_depth=None,\n",
       "                                                        max_features='auto',\n",
       "                                                        max_leaf_nodes=None,\n",
       "                                                        max_samples=None,\n",
       "                                                        min_impurity_decrease=0.0,\n",
       "                                                        min_impurity_split=None,\n",
       "                                                        min_samples_leaf=1,\n",
       "                                                        min_samples_split=2,\n",
       "                                                        min_weight_fraction_leaf=0.0,\n",
       "                                                        n_estimators=100,\n",
       "                                                        n_jobs=None,\n",
       "                                                        oob_score=False,\n",
       "                                                        random_state=None,\n",
       "                                                        verbose=0,\n",
       "                                                        warm_start=False),\n",
       "                       n_jobs=None),\n",
       " 'vect__analyzer': 'word',\n",
       " 'vect__binary': False,\n",
       " 'vect__decode_error': 'strict',\n",
       " 'vect__dtype': numpy.int64,\n",
       " 'vect__encoding': 'utf-8',\n",
       " 'vect__input': 'content',\n",
       " 'vect__lowercase': True,\n",
       " 'vect__max_df': 1.0,\n",
       " 'vect__max_features': None,\n",
       " 'vect__min_df': 1,\n",
       " 'vect__ngram_range': (1, 1),\n",
       " 'vect__preprocessor': None,\n",
       " 'vect__stop_words': None,\n",
       " 'vect__strip_accents': None,\n",
       " 'vect__token_pattern': '(?u)\\\\b\\\\w\\\\w+\\\\b',\n",
       " 'vect__tokenizer': <function __main__.tokenize(text)>,\n",
       " 'vect__vocabulary': None,\n",
       " 'tfidf__norm': 'l2',\n",
       " 'tfidf__smooth_idf': True,\n",
       " 'tfidf__sublinear_tf': False,\n",
       " 'tfidf__use_idf': True,\n",
       " 'clf__estimator__bootstrap': True,\n",
       " 'clf__estimator__ccp_alpha': 0.0,\n",
       " 'clf__estimator__class_weight': None,\n",
       " 'clf__estimator__criterion': 'gini',\n",
       " 'clf__estimator__max_depth': None,\n",
       " 'clf__estimator__max_features': 'auto',\n",
       " 'clf__estimator__max_leaf_nodes': None,\n",
       " 'clf__estimator__max_samples': None,\n",
       " 'clf__estimator__min_impurity_decrease': 0.0,\n",
       " 'clf__estimator__min_impurity_split': None,\n",
       " 'clf__estimator__min_samples_leaf': 1,\n",
       " 'clf__estimator__min_samples_split': 2,\n",
       " 'clf__estimator__min_weight_fraction_leaf': 0.0,\n",
       " 'clf__estimator__n_estimators': 100,\n",
       " 'clf__estimator__n_jobs': None,\n",
       " 'clf__estimator__oob_score': False,\n",
       " 'clf__estimator__random_state': None,\n",
       " 'clf__estimator__verbose': 0,\n",
       " 'clf__estimator__warm_start': False,\n",
       " 'clf__estimator': RandomForestClassifier(bootstrap=True, ccp_alpha=0.0, class_weight=None,\n",
       "                        criterion='gini', max_depth=None, max_features='auto',\n",
       "                        max_leaf_nodes=None, max_samples=None,\n",
       "                        min_impurity_decrease=0.0, min_impurity_split=None,\n",
       "                        min_samples_leaf=1, min_samples_split=2,\n",
       "                        min_weight_fraction_leaf=0.0, n_estimators=100,\n",
       "                        n_jobs=None, oob_score=False, random_state=None,\n",
       "                        verbose=0, warm_start=False),\n",
       " 'clf__n_jobs': None}"
      ]
     },
     "execution_count": 115,
     "metadata": {},
     "output_type": "execute_result"
    }
   ],
   "source": [
    "pipeline.get_params()"
   ]
  },
  {
   "cell_type": "markdown",
   "metadata": {},
   "source": [
    "### 4. Train pipeline\n",
    "- Split data into train and test sets\n",
    "- Train pipeline"
   ]
  },
  {
   "cell_type": "code",
   "execution_count": 116,
   "metadata": {},
   "outputs": [
    {
     "data": {
      "text/plain": [
       "Pipeline(memory=None,\n",
       "         steps=[('vect',\n",
       "                 CountVectorizer(analyzer='word', binary=False,\n",
       "                                 decode_error='strict',\n",
       "                                 dtype=<class 'numpy.int64'>, encoding='utf-8',\n",
       "                                 input='content', lowercase=True, max_df=1.0,\n",
       "                                 max_features=None, min_df=1,\n",
       "                                 ngram_range=(1, 1), preprocessor=None,\n",
       "                                 stop_words=None, strip_accents=None,\n",
       "                                 token_pattern='(?u)\\\\b\\\\w\\\\w+\\\\b',\n",
       "                                 tokenizer=<function tokenize at...\n",
       "                                                                        ccp_alpha=0.0,\n",
       "                                                                        class_weight=None,\n",
       "                                                                        criterion='gini',\n",
       "                                                                        max_depth=None,\n",
       "                                                                        max_features='auto',\n",
       "                                                                        max_leaf_nodes=None,\n",
       "                                                                        max_samples=None,\n",
       "                                                                        min_impurity_decrease=0.0,\n",
       "                                                                        min_impurity_split=None,\n",
       "                                                                        min_samples_leaf=1,\n",
       "                                                                        min_samples_split=2,\n",
       "                                                                        min_weight_fraction_leaf=0.0,\n",
       "                                                                        n_estimators=100,\n",
       "                                                                        n_jobs=None,\n",
       "                                                                        oob_score=False,\n",
       "                                                                        random_state=None,\n",
       "                                                                        verbose=0,\n",
       "                                                                        warm_start=False),\n",
       "                                       n_jobs=None))],\n",
       "         verbose=False)"
      ]
     },
     "execution_count": 116,
     "metadata": {},
     "output_type": "execute_result"
    }
   ],
   "source": [
    "X_train, X_test, y_train, y_test = train_test_split(X, y, test_size = 0.2)\n",
    "pipeline.fit(X_train, y_train)"
   ]
  },
  {
   "cell_type": "markdown",
   "metadata": {},
   "source": [
    "### 5. Test your model\n",
    "Report the f1 score, precision and recall for each output category of the dataset. You can do this by iterating through the columns and calling sklearn's `classification_report` on each."
   ]
  },
  {
   "cell_type": "code",
   "execution_count": 117,
   "metadata": {},
   "outputs": [],
   "source": [
    "y_pred = pipeline.predict(X_test)"
   ]
  },
  {
   "cell_type": "code",
   "execution_count": 127,
   "metadata": {},
   "outputs": [
    {
     "data": {
      "text/plain": [
       "{'related': {'precision': 0.8419432842382941,\n",
       "  'recall': 0.9442800788954635,\n",
       "  'f1-score': 0.8901801278326554,\n",
       "  'support': 4056},\n",
       " 'request': {'precision': 0.793046357615894,\n",
       "  'recall': 0.5020964360587002,\n",
       "  'f1-score': 0.6148908857509628,\n",
       "  'support': 954},\n",
       " 'offer': {'precision': 0.1951219512195122,\n",
       "  'recall': 0.13793103448275862,\n",
       "  'f1-score': 0.16161616161616163,\n",
       "  'support': 58},\n",
       " 'aid_related': {'precision': 0.7450980392156863,\n",
       "  'recall': 0.7114155251141553,\n",
       "  'f1-score': 0.727867320719458,\n",
       "  'support': 2190},\n",
       " 'medical_help': {'precision': 0.4117647058823529,\n",
       "  'recall': 0.09130434782608696,\n",
       "  'f1-score': 0.1494661921708185,\n",
       "  'support': 460},\n",
       " 'medical_products': {'precision': 0.4588235294117647,\n",
       "  'recall': 0.1270358306188925,\n",
       "  'f1-score': 0.1989795918367347,\n",
       "  'support': 307},\n",
       " 'search_and_rescue': {'precision': 0.3230769230769231,\n",
       "  'recall': 0.10552763819095477,\n",
       "  'f1-score': 0.1590909090909091,\n",
       "  'support': 199},\n",
       " 'security': {'precision': 0.19607843137254902,\n",
       "  'recall': 0.07575757575757576,\n",
       "  'f1-score': 0.1092896174863388,\n",
       "  'support': 132},\n",
       " 'military': {'precision': 0.38235294117647056,\n",
       "  'recall': 0.11607142857142858,\n",
       "  'f1-score': 0.17808219178082194,\n",
       "  'support': 224},\n",
       " 'child_alone': {'precision': 0.2,\n",
       "  'recall': 0.2,\n",
       "  'f1-score': 0.20000000000000004,\n",
       "  'support': 40},\n",
       " 'water': {'precision': 0.7202072538860104,\n",
       "  'recall': 0.351010101010101,\n",
       "  'f1-score': 0.4719864176570458,\n",
       "  'support': 396},\n",
       " 'food': {'precision': 0.8003952569169961,\n",
       "  'recall': 0.6500802568218299,\n",
       "  'f1-score': 0.7174490699734278,\n",
       "  'support': 623},\n",
       " 'shelter': {'precision': 0.7259786476868327,\n",
       "  'recall': 0.4154786150712831,\n",
       "  'f1-score': 0.5284974093264249,\n",
       "  'support': 491},\n",
       " 'clothing': {'precision': 0.36666666666666664,\n",
       "  'recall': 0.18803418803418803,\n",
       "  'f1-score': 0.2485875706214689,\n",
       "  'support': 117},\n",
       " 'money': {'precision': 0.3137254901960784,\n",
       "  'recall': 0.1,\n",
       "  'f1-score': 0.15165876777251186,\n",
       "  'support': 160},\n",
       " 'missing_people': {'precision': 0.28,\n",
       "  'recall': 0.1308411214953271,\n",
       "  'f1-score': 0.17834394904458598,\n",
       "  'support': 107},\n",
       " 'refugees': {'precision': 0.3333333333333333,\n",
       "  'recall': 0.1218274111675127,\n",
       "  'f1-score': 0.17843866171003717,\n",
       "  'support': 197},\n",
       " 'death': {'precision': 0.5773195876288659,\n",
       "  'recall': 0.1951219512195122,\n",
       "  'f1-score': 0.2916666666666667,\n",
       "  'support': 287},\n",
       " 'other_aid': {'precision': 0.44761904761904764,\n",
       "  'recall': 0.06647807637906648,\n",
       "  'f1-score': 0.11576354679802955,\n",
       "  'support': 707},\n",
       " 'infrastructure_related': {'precision': 0.23333333333333334,\n",
       "  'recall': 0.03684210526315789,\n",
       "  'f1-score': 0.06363636363636363,\n",
       "  'support': 380},\n",
       " 'transport': {'precision': 0.5119047619047619,\n",
       "  'recall': 0.14675767918088736,\n",
       "  'f1-score': 0.22811671087533156,\n",
       "  'support': 293},\n",
       " 'buildings': {'precision': 0.5204081632653061,\n",
       "  'recall': 0.16346153846153846,\n",
       "  'f1-score': 0.24878048780487808,\n",
       "  'support': 312},\n",
       " 'electricity': {'precision': 0.3157894736842105,\n",
       "  'recall': 0.1232876712328767,\n",
       "  'f1-score': 0.17733990147783252,\n",
       "  'support': 146},\n",
       " 'tools': {'precision': 0.2391304347826087,\n",
       "  'recall': 0.14666666666666667,\n",
       "  'f1-score': 0.18181818181818182,\n",
       "  'support': 75},\n",
       " 'hospitals': {'precision': 0.25,\n",
       "  'recall': 0.12264150943396226,\n",
       "  'f1-score': 0.16455696202531647,\n",
       "  'support': 106},\n",
       " 'shops': {'precision': 0.23076923076923078,\n",
       "  'recall': 0.1875,\n",
       "  'f1-score': 0.20689655172413793,\n",
       "  'support': 64},\n",
       " 'aid_centers': {'precision': 0.2127659574468085,\n",
       "  'recall': 0.09615384615384616,\n",
       "  'f1-score': 0.13245033112582782,\n",
       "  'support': 104},\n",
       " 'other_infrastructure': {'precision': 0.20689655172413793,\n",
       "  'recall': 0.04395604395604396,\n",
       "  'f1-score': 0.07250755287009064,\n",
       "  'support': 273},\n",
       " 'weather_related': {'precision': 0.8191409193669932,\n",
       "  'recall': 0.7104575163398693,\n",
       "  'f1-score': 0.760938046902345,\n",
       "  'support': 1530},\n",
       " 'floods': {'precision': 0.7933579335793358,\n",
       "  'recall': 0.4497907949790795,\n",
       "  'f1-score': 0.5740987983978638,\n",
       "  'support': 478},\n",
       " 'storm': {'precision': 0.6966824644549763,\n",
       "  'recall': 0.5444444444444444,\n",
       "  'f1-score': 0.6112266112266113,\n",
       "  'support': 540},\n",
       " 'fire': {'precision': 0.2708333333333333,\n",
       "  'recall': 0.13978494623655913,\n",
       "  'f1-score': 0.18439716312056736,\n",
       "  'support': 93},\n",
       " 'earthquake': {'precision': 0.8370672097759674,\n",
       "  'recall': 0.7365591397849462,\n",
       "  'f1-score': 0.7836034318398476,\n",
       "  'support': 558},\n",
       " 'cold': {'precision': 0.3835616438356164,\n",
       "  'recall': 0.2153846153846154,\n",
       "  'f1-score': 0.27586206896551724,\n",
       "  'support': 130},\n",
       " 'other_weather': {'precision': 0.39705882352941174,\n",
       "  'recall': 0.08059701492537313,\n",
       "  'f1-score': 0.1339950372208437,\n",
       "  'support': 335},\n",
       " 'direct_report': {'precision': 0.7263157894736842,\n",
       "  'recall': 0.3935361216730038,\n",
       "  'f1-score': 0.5104808877928484,\n",
       "  'support': 1052},\n",
       " 'micro avg': {'precision': 0.7437959025898725,\n",
       "  'recall': 0.5293826345328492,\n",
       "  'f1-score': 0.618534829149121,\n",
       "  'support': 18174},\n",
       " 'macro avg': {'precision': 0.4654879853167498,\n",
       "  'recall': 0.2657809241897696,\n",
       "  'f1-score': 0.32173778185220736,\n",
       "  'support': 18174},\n",
       " 'weighted avg': {'precision': 0.669788720492625,\n",
       "  'recall': 0.5293826345328492,\n",
       "  'f1-score': 0.5669758349657108,\n",
       "  'support': 18174},\n",
       " 'samples avg': {'precision': 0.6627408126259755,\n",
       "  'recall': 0.4946729463048718,\n",
       "  'f1-score': 0.5176162703215136,\n",
       "  'support': 18174}}"
      ]
     },
     "execution_count": 127,
     "metadata": {},
     "output_type": "execute_result"
    }
   ],
   "source": [
    "label = list(df.drop(['id','message','original','genre'], axis=1).columns)\n",
    "classification_report(y_test, y_pred, output_dict=True, target_names=label)"
   ]
  },
  {
   "cell_type": "markdown",
   "metadata": {},
   "source": [
    "### 6. Improve your model\n",
    "Use grid search to find better parameters. "
   ]
  },
  {
   "cell_type": "code",
   "execution_count": 145,
   "metadata": {},
   "outputs": [],
   "source": [
    "parameters = { 'clf__estimator__n_estimators': [10],\n",
    "    'vect__ngram_range': [(1, 1)]}\n",
    "\n",
    "cv = GridSearchCV(pipeline, param_grid = parameters)"
   ]
  },
  {
   "cell_type": "markdown",
   "metadata": {},
   "source": [
    "### 7. Test your model\n",
    "Show the accuracy, precision, and recall of the tuned model.  \n",
    "\n",
    "Since this project focuses on code quality, process, and  pipelines, there is no minimum performance metric needed to pass. However, make sure to fine tune your models for accuracy, precision and recall to make your project stand out - especially for your portfolio!"
   ]
  },
  {
   "cell_type": "code",
   "execution_count": 146,
   "metadata": {},
   "outputs": [],
   "source": [
    "cv.fit(X_train, y_train)"
   ]
  },
  {
   "cell_type": "code",
   "execution_count": 147,
   "metadata": {},
   "outputs": [
    {
     "name": "stderr",
     "output_type": "stream",
     "text": [
      "/Users/dhaneswaramandrasat/anaconda3/envs/dsnd/lib/python3.8/site-packages/sklearn/metrics/_classification.py:1272: UndefinedMetricWarning: Precision and F-score are ill-defined and being set to 0.0 in samples with no predicted labels. Use `zero_division` parameter to control this behavior.\n",
      "  _warn_prf(average, modifier, msg_start, len(result))\n",
      "/Users/dhaneswaramandrasat/anaconda3/envs/dsnd/lib/python3.8/site-packages/sklearn/metrics/_classification.py:1272: UndefinedMetricWarning: Recall and F-score are ill-defined and being set to 0.0 in samples with no true labels. Use `zero_division` parameter to control this behavior.\n",
      "  _warn_prf(average, modifier, msg_start, len(result))\n"
     ]
    },
    {
     "data": {
      "text/plain": [
       "{'related': {'precision': 0.8482758620689655,\n",
       "  'recall': 0.9097633136094675,\n",
       "  'f1-score': 0.8779443254817988,\n",
       "  'support': 4056},\n",
       " 'request': {'precision': 0.7839851024208566,\n",
       "  'recall': 0.4412997903563941,\n",
       "  'f1-score': 0.5647216633132126,\n",
       "  'support': 954},\n",
       " 'offer': {'precision': 0.22448979591836735,\n",
       "  'recall': 0.1896551724137931,\n",
       "  'f1-score': 0.205607476635514,\n",
       "  'support': 58},\n",
       " 'aid_related': {'precision': 0.7291330102315563,\n",
       "  'recall': 0.6182648401826484,\n",
       "  'f1-score': 0.6691376328144304,\n",
       "  'support': 2190},\n",
       " 'medical_help': {'precision': 0.48717948717948717,\n",
       "  'recall': 0.12391304347826088,\n",
       "  'f1-score': 0.1975736568457539,\n",
       "  'support': 460},\n",
       " 'medical_products': {'precision': 0.6142857142857143,\n",
       "  'recall': 0.14006514657980457,\n",
       "  'f1-score': 0.22811671087533156,\n",
       "  'support': 307},\n",
       " 'search_and_rescue': {'precision': 0.5333333333333333,\n",
       "  'recall': 0.08040201005025126,\n",
       "  'f1-score': 0.13973799126637554,\n",
       "  'support': 199},\n",
       " 'security': {'precision': 0.18032786885245902,\n",
       "  'recall': 0.08333333333333333,\n",
       "  'f1-score': 0.11398963730569947,\n",
       "  'support': 132},\n",
       " 'military': {'precision': 0.4155844155844156,\n",
       "  'recall': 0.14285714285714285,\n",
       "  'f1-score': 0.21262458471760795,\n",
       "  'support': 224},\n",
       " 'child_alone': {'precision': 0.1836734693877551,\n",
       "  'recall': 0.225,\n",
       "  'f1-score': 0.20224719101123595,\n",
       "  'support': 40},\n",
       " 'water': {'precision': 0.723404255319149,\n",
       "  'recall': 0.3434343434343434,\n",
       "  'f1-score': 0.4657534246575343,\n",
       "  'support': 396},\n",
       " 'food': {'precision': 0.7551487414187643,\n",
       "  'recall': 0.5296950240770465,\n",
       "  'f1-score': 0.6226415094339622,\n",
       "  'support': 623},\n",
       " 'shelter': {'precision': 0.7149532710280374,\n",
       "  'recall': 0.31160896130346233,\n",
       "  'f1-score': 0.4340425531914893,\n",
       "  'support': 491},\n",
       " 'clothing': {'precision': 0.359375,\n",
       "  'recall': 0.19658119658119658,\n",
       "  'f1-score': 0.2541436464088398,\n",
       "  'support': 117},\n",
       " 'money': {'precision': 0.3333333333333333,\n",
       "  'recall': 0.1,\n",
       "  'f1-score': 0.15384615384615383,\n",
       "  'support': 160},\n",
       " 'missing_people': {'precision': 0.2,\n",
       "  'recall': 0.102803738317757,\n",
       "  'f1-score': 0.13580246913580246,\n",
       "  'support': 107},\n",
       " 'refugees': {'precision': 0.33653846153846156,\n",
       "  'recall': 0.17766497461928935,\n",
       "  'f1-score': 0.23255813953488375,\n",
       "  'support': 197},\n",
       " 'death': {'precision': 0.5564516129032258,\n",
       "  'recall': 0.24041811846689895,\n",
       "  'f1-score': 0.3357664233576642,\n",
       "  'support': 287},\n",
       " 'other_aid': {'precision': 0.4918032786885246,\n",
       "  'recall': 0.08486562942008487,\n",
       "  'f1-score': 0.1447527141133896,\n",
       "  'support': 707},\n",
       " 'infrastructure_related': {'precision': 0.21311475409836064,\n",
       "  'recall': 0.034210526315789476,\n",
       "  'f1-score': 0.05895691609977324,\n",
       "  'support': 380},\n",
       " 'transport': {'precision': 0.3258426966292135,\n",
       "  'recall': 0.09897610921501707,\n",
       "  'f1-score': 0.1518324607329843,\n",
       "  'support': 293},\n",
       " 'buildings': {'precision': 0.5413533834586466,\n",
       "  'recall': 0.23076923076923078,\n",
       "  'f1-score': 0.3235955056179775,\n",
       "  'support': 312},\n",
       " 'electricity': {'precision': 0.390625,\n",
       "  'recall': 0.17123287671232876,\n",
       "  'f1-score': 0.23809523809523808,\n",
       "  'support': 146},\n",
       " 'tools': {'precision': 0.24444444444444444,\n",
       "  'recall': 0.14666666666666667,\n",
       "  'f1-score': 0.18333333333333335,\n",
       "  'support': 75},\n",
       " 'hospitals': {'precision': 0.20408163265306123,\n",
       "  'recall': 0.09433962264150944,\n",
       "  'f1-score': 0.12903225806451615,\n",
       "  'support': 106},\n",
       " 'shops': {'precision': 0.2916666666666667,\n",
       "  'recall': 0.109375,\n",
       "  'f1-score': 0.15909090909090912,\n",
       "  'support': 64},\n",
       " 'aid_centers': {'precision': 0.22413793103448276,\n",
       "  'recall': 0.125,\n",
       "  'f1-score': 0.16049382716049382,\n",
       "  'support': 104},\n",
       " 'other_infrastructure': {'precision': 0.18309859154929578,\n",
       "  'recall': 0.047619047619047616,\n",
       "  'f1-score': 0.07558139534883722,\n",
       "  'support': 273},\n",
       " 'weather_related': {'precision': 0.8130360205831904,\n",
       "  'recall': 0.6196078431372549,\n",
       "  'f1-score': 0.7032640949554896,\n",
       "  'support': 1530},\n",
       " 'floods': {'precision': 0.7392857142857143,\n",
       "  'recall': 0.4330543933054393,\n",
       "  'f1-score': 0.546174142480211,\n",
       "  'support': 478},\n",
       " 'storm': {'precision': 0.672093023255814,\n",
       "  'recall': 0.5351851851851852,\n",
       "  'f1-score': 0.5958762886597938,\n",
       "  'support': 540},\n",
       " 'fire': {'precision': 0.24242424242424243,\n",
       "  'recall': 0.17204301075268819,\n",
       "  'f1-score': 0.20125786163522014,\n",
       "  'support': 93},\n",
       " 'earthquake': {'precision': 0.8340909090909091,\n",
       "  'recall': 0.6577060931899642,\n",
       "  'f1-score': 0.7354709418837676,\n",
       "  'support': 558},\n",
       " 'cold': {'precision': 0.3815789473684211,\n",
       "  'recall': 0.2230769230769231,\n",
       "  'f1-score': 0.2815533980582524,\n",
       "  'support': 130},\n",
       " 'other_weather': {'precision': 0.3170731707317073,\n",
       "  'recall': 0.07761194029850746,\n",
       "  'f1-score': 0.12470023980815348,\n",
       "  'support': 335},\n",
       " 'direct_report': {'precision': 0.6636197440585009,\n",
       "  'recall': 0.3450570342205323,\n",
       "  'f1-score': 0.4540337711069419,\n",
       "  'support': 1052},\n",
       " 'micro avg': {'precision': 0.7287068824587216,\n",
       "  'recall': 0.4905359304500935,\n",
       "  'f1-score': 0.5863588529334386,\n",
       "  'support': 18174},\n",
       " 'macro avg': {'precision': 0.4653567468284744,\n",
       "  'recall': 0.25453214672742386,\n",
       "  'f1-score': 0.31425973572440474,\n",
       "  'support': 18174},\n",
       " 'weighted avg': {'precision': 0.6644854476436641,\n",
       "  'recall': 0.4905359304500935,\n",
       "  'f1-score': 0.5423620131341588,\n",
       "  'support': 18174},\n",
       " 'samples avg': {'precision': 0.635159674749114,\n",
       "  'recall': 0.45953393535659165,\n",
       "  'f1-score': 0.4842230050066384,\n",
       "  'support': 18174}}"
      ]
     },
     "execution_count": 147,
     "metadata": {},
     "output_type": "execute_result"
    }
   ],
   "source": [
    "y_pred = cv.predict(X_test)\n",
    "classification_report(y_test, y_pred, output_dict=True, target_names=label)"
   ]
  },
  {
   "cell_type": "markdown",
   "metadata": {},
   "source": [
    "### 8. Try improving your model further. Here are a few ideas:\n",
    "* try other machine learning algorithms\n",
    "* add other features besides the TF-IDF"
   ]
  },
  {
   "cell_type": "code",
   "execution_count": 4,
   "metadata": {},
   "outputs": [],
   "source": [
    "class StartingVerbExtractor(BaseEstimator, TransformerMixin):\n",
    "\n",
    "    def starting_verb(self, text):\n",
    "        sentence_list = nltk.sent_tokenize(text)\n",
    "        for sentence in sentence_list:\n",
    "            pos_tags = nltk.pos_tag(word_tokenize(sentence))\n",
    "            first_word, first_tag = pos_tags[0]\n",
    "            if first_tag in ['VB', 'VBP'] or first_word == 'RT':\n",
    "                return True\n",
    "        return False\n",
    "\n",
    "    def fit(self, X, y=None):\n",
    "        return self\n",
    "\n",
    "    def transform(self, X):\n",
    "        X_tagged = pd.Series(X).apply(self.starting_verb)\n",
    "        return pd.DataFrame(X_tagged)"
   ]
  },
  {
   "cell_type": "code",
   "execution_count": 34,
   "metadata": {},
   "outputs": [],
   "source": [
    "pipeline = Pipeline([\n",
    "    ('features', FeatureUnion([\n",
    "    ('text_pipeline', Pipeline([\n",
    "    ('vect', CountVectorizer(tokenizer=tokenize)),\n",
    "    ('tfidf', TfidfTransformer())\n",
    "        ])),\n",
    "        ('starting_verb', StartingVerbExtractor())\n",
    "    ])),\n",
    "    ('clf', MultiOutputClassifier(MultinomialNB())) \n",
    "    ])\n",
    "\n",
    "parameters = [\n",
    "    {\n",
    "    \"clf\": [MultiOutputClassifier(RandomForestClassifier())],\n",
    "    'clf__estimator__n_estimators': [10],\n",
    "    'features__text_pipeline__vect__ngram_range': [(1, 1)]\n",
    "    },\n",
    "    {\n",
    "    'clf': [MultiOutputClassifier(MultinomialNB())],\n",
    "    'clf__estimator__alpha': [0.5, 1.5],\n",
    "    'features__text_pipeline__vect__ngram_range': [(1, 1)]\n",
    "    },\n",
    "    {\n",
    "    \"clf\": [MultiOutputClassifier(LogisticRegression())],\n",
    "    \"clf__estimator__estimator__C\": [0.01, 0.1],\n",
    "    'features__text_pipeline__vect__ngram_range': [(1, 1)]\n",
    "    }]\n",
    "\n",
    "\n",
    "cv = GridSearchCV(pipeline, param_grid = parameters)"
   ]
  },
  {
   "cell_type": "code",
   "execution_count": 5,
   "metadata": {},
   "outputs": [],
   "source": [
    "pipeline = Pipeline([\n",
    "    ('features', FeatureUnion([\n",
    "        \n",
    "        ('text_pipeline', Pipeline([\n",
    "        ('vect', CountVectorizer(tokenizer=tokenize)),\n",
    "        ('tfidf', TfidfTransformer())\n",
    "        ])),\n",
    "        \n",
    "        ('starting_verb', StartingVerbExtractor())\n",
    "    ])),\n",
    "    \n",
    "    ('clf', MultiOutputClassifier(RandomForestClassifier()))  \n",
    "    ])\n",
    "\n",
    "parameters = { 'clf__estimator__n_estimators': [10],\n",
    "    'features__text_pipeline__vect__ngram_range': [(1, 1)]}\n",
    "\n",
    "\n",
    "\n",
    "cv = GridSearchCV(pipeline, param_grid = parameters)\n",
    "\n"
   ]
  },
  {
   "cell_type": "code",
   "execution_count": 7,
   "metadata": {},
   "outputs": [],
   "source": [
    "pipeline = Pipeline([\n",
    "\n",
    "        \n",
    "    ('vect', CountVectorizer(tokenizer=tokenize)),\n",
    "    ('tfidf', TfidfTransformer()),    \n",
    "    ('clf', MultiOutputClassifier(MultinomialNB()))  \n",
    "    ])\n",
    "\n",
    "parameters = { 'clf__estimator__alpha': [0.5, 1.5],\n",
    "    'vect__ngram_range': [(1, 1)]}\n",
    "\n",
    "\n",
    "\n",
    "cv = GridSearchCV(pipeline, param_grid = parameters)\n",
    "\n"
   ]
  },
  {
   "cell_type": "code",
   "execution_count": 21,
   "metadata": {},
   "outputs": [],
   "source": [
    "pipeline = Pipeline([\n",
    "    ('features', FeatureUnion([\n",
    "        \n",
    "        ('text_pipeline', Pipeline([\n",
    "        ('vect', CountVectorizer(tokenizer=tokenize)),\n",
    "        ('tfidf', TfidfTransformer())\n",
    "        ])),\n",
    "        \n",
    "        ('starting_verb', StartingVerbExtractor())\n",
    "    ])),\n",
    "    \n",
    "    ('clf', MultiOutputClassifier(LogisticRegression()))\n",
    "    ])\n",
    "\n",
    "parameters = {'clf__estimator__estimator__C': [0.01, 0.1],\n",
    "    'clf__estimator__estimator__penalty': [\"l1\", \"l2\"],\n",
    "     'features__text_pipeline__vect__ngram_range': [(1, 1)]}\n",
    "\n",
    "\n",
    "cv = GridSearchCV(pipeline, param_grid = parameters)"
   ]
  },
  {
   "cell_type": "code",
   "execution_count": null,
   "metadata": {},
   "outputs": [],
   "source": [
    "# Naive Bayes with verb extractor\n",
    "\n",
    "pipeline = Pipeline([\n",
    "    ('features', FeatureUnion([\n",
    "        \n",
    "        ('text_pipeline', Pipeline([\n",
    "        ('vect', CountVectorizer(tokenizer=tokenize)),\n",
    "        ('tfidf', TfidfTransformer())\n",
    "        ])),\n",
    "        \n",
    "        ('starting_verb', StartingVerbExtractor())\n",
    "    ])),\n",
    "    \n",
    "    ('clf', MultiOutputClassifier(MultinomialNB()))\n",
    "    ])\n",
    "\n",
    "parameters = { 'clf__estimator__alpha': [0.5, 1.5],\n",
    "    'features__text_pipeline__vect__ngram_range': [(1, 1)]}\n",
    "\n",
    "\n",
    "\n",
    "\n",
    "cv = GridSearchCV(pipeline, param_grid = parameters)\n"
   ]
  },
  {
   "cell_type": "code",
   "execution_count": 22,
   "metadata": {},
   "outputs": [
    {
     "data": {
      "text/plain": [
       "dict_keys(['memory', 'steps', 'verbose', 'features', 'clf', 'features__n_jobs', 'features__transformer_list', 'features__transformer_weights', 'features__verbose', 'features__text_pipeline', 'features__starting_verb', 'features__text_pipeline__memory', 'features__text_pipeline__steps', 'features__text_pipeline__verbose', 'features__text_pipeline__vect', 'features__text_pipeline__tfidf', 'features__text_pipeline__vect__analyzer', 'features__text_pipeline__vect__binary', 'features__text_pipeline__vect__decode_error', 'features__text_pipeline__vect__dtype', 'features__text_pipeline__vect__encoding', 'features__text_pipeline__vect__input', 'features__text_pipeline__vect__lowercase', 'features__text_pipeline__vect__max_df', 'features__text_pipeline__vect__max_features', 'features__text_pipeline__vect__min_df', 'features__text_pipeline__vect__ngram_range', 'features__text_pipeline__vect__preprocessor', 'features__text_pipeline__vect__stop_words', 'features__text_pipeline__vect__strip_accents', 'features__text_pipeline__vect__token_pattern', 'features__text_pipeline__vect__tokenizer', 'features__text_pipeline__vect__vocabulary', 'features__text_pipeline__tfidf__norm', 'features__text_pipeline__tfidf__smooth_idf', 'features__text_pipeline__tfidf__sublinear_tf', 'features__text_pipeline__tfidf__use_idf', 'clf__estimator__C', 'clf__estimator__class_weight', 'clf__estimator__dual', 'clf__estimator__fit_intercept', 'clf__estimator__intercept_scaling', 'clf__estimator__l1_ratio', 'clf__estimator__max_iter', 'clf__estimator__multi_class', 'clf__estimator__n_jobs', 'clf__estimator__penalty', 'clf__estimator__random_state', 'clf__estimator__solver', 'clf__estimator__tol', 'clf__estimator__verbose', 'clf__estimator__warm_start', 'clf__estimator', 'clf__n_jobs'])"
      ]
     },
     "execution_count": 22,
     "metadata": {},
     "output_type": "execute_result"
    }
   ],
   "source": [
    "pipeline.get_params().keys()"
   ]
  },
  {
   "cell_type": "code",
   "execution_count": 15,
   "metadata": {},
   "outputs": [
    {
     "name": "stderr",
     "output_type": "stream",
     "text": [
      "/Users/dhaneswaramandrasat/anaconda3/envs/dsnd/lib/python3.8/site-packages/sklearn/metrics/_classification.py:1272: UndefinedMetricWarning: Precision and F-score are ill-defined and being set to 0.0 in samples with no predicted labels. Use `zero_division` parameter to control this behavior.\n",
      "  _warn_prf(average, modifier, msg_start, len(result))\n",
      "/Users/dhaneswaramandrasat/anaconda3/envs/dsnd/lib/python3.8/site-packages/sklearn/metrics/_classification.py:1272: UndefinedMetricWarning: Recall and F-score are ill-defined and being set to 0.0 in samples with no true labels. Use `zero_division` parameter to control this behavior.\n",
      "  _warn_prf(average, modifier, msg_start, len(result))\n"
     ]
    },
    {
     "data": {
      "text/plain": [
       "{'related': {'precision': 0.7948303715670436,\n",
       "  'recall': 0.9867134620205565,\n",
       "  'f1-score': 0.8804384297058494,\n",
       "  'support': 3989},\n",
       " 'request': {'precision': 0.8317307692307693,\n",
       "  'recall': 0.3802197802197802,\n",
       "  'f1-score': 0.521870286576169,\n",
       "  'support': 910},\n",
       " 'offer': {'precision': 0.6666666666666666,\n",
       "  'recall': 0.03389830508474576,\n",
       "  'f1-score': 0.06451612903225806,\n",
       "  'support': 59},\n",
       " 'aid_related': {'precision': 0.7231320368474923,\n",
       "  'recall': 0.6370604147880974,\n",
       "  'f1-score': 0.677372962607862,\n",
       "  'support': 2218},\n",
       " 'medical_help': {'precision': 0.5925925925925926,\n",
       "  'recall': 0.035555555555555556,\n",
       "  'f1-score': 0.06708595387840671,\n",
       "  'support': 450},\n",
       " 'medical_products': {'precision': 0.5,\n",
       "  'recall': 0.020761245674740483,\n",
       "  'f1-score': 0.03986710963455149,\n",
       "  'support': 289},\n",
       " 'search_and_rescue': {'precision': 0.5,\n",
       "  'recall': 0.017241379310344827,\n",
       "  'f1-score': 0.03333333333333333,\n",
       "  'support': 174},\n",
       " 'security': {'precision': 0.6,\n",
       "  'recall': 0.02654867256637168,\n",
       "  'f1-score': 0.05084745762711864,\n",
       "  'support': 113},\n",
       " 'military': {'precision': 0.75,\n",
       "  'recall': 0.02843601895734597,\n",
       "  'f1-score': 0.0547945205479452,\n",
       "  'support': 211},\n",
       " 'child_alone': {'precision': 0.6666666666666666,\n",
       "  'recall': 0.07142857142857142,\n",
       "  'f1-score': 0.12903225806451613,\n",
       "  'support': 28},\n",
       " 'water': {'precision': 0.45454545454545453,\n",
       "  'recall': 0.01282051282051282,\n",
       "  'f1-score': 0.024937655860349125,\n",
       "  'support': 390},\n",
       " 'food': {'precision': 0.7236842105263158,\n",
       "  'recall': 0.09166666666666666,\n",
       "  'f1-score': 0.16272189349112426,\n",
       "  'support': 600},\n",
       " 'shelter': {'precision': 0.75,\n",
       "  'recall': 0.061601642710472276,\n",
       "  'f1-score': 0.11385199240986717,\n",
       "  'support': 487},\n",
       " 'clothing': {'precision': 0.5,\n",
       "  'recall': 0.024390243902439025,\n",
       "  'f1-score': 0.046511627906976744,\n",
       "  'support': 123},\n",
       " 'money': {'precision': 0.5,\n",
       "  'recall': 0.020134228187919462,\n",
       "  'f1-score': 0.03870967741935484,\n",
       "  'support': 149},\n",
       " 'missing_people': {'precision': 0.75,\n",
       "  'recall': 0.03488372093023256,\n",
       "  'f1-score': 0.06666666666666667,\n",
       "  'support': 86},\n",
       " 'refugees': {'precision': 0.5,\n",
       "  'recall': 0.015544041450777202,\n",
       "  'f1-score': 0.030150753768844216,\n",
       "  'support': 193},\n",
       " 'death': {'precision': 0.5714285714285714,\n",
       "  'recall': 0.01532567049808429,\n",
       "  'f1-score': 0.029850746268656712,\n",
       "  'support': 261},\n",
       " 'other_aid': {'precision': 0.5,\n",
       "  'recall': 0.012430939226519336,\n",
       "  'f1-score': 0.024258760107816708,\n",
       "  'support': 724},\n",
       " 'infrastructure_related': {'precision': 0.625,\n",
       "  'recall': 0.013368983957219251,\n",
       "  'f1-score': 0.02617801047120419,\n",
       "  'support': 374},\n",
       " 'transport': {'precision': 0.5714285714285714,\n",
       "  'recall': 0.014492753623188406,\n",
       "  'f1-score': 0.028268551236749116,\n",
       "  'support': 276},\n",
       " 'buildings': {'precision': 0.6153846153846154,\n",
       "  'recall': 0.025477707006369428,\n",
       "  'f1-score': 0.0489296636085627,\n",
       "  'support': 314},\n",
       " 'electricity': {'precision': 0.6666666666666666,\n",
       "  'recall': 0.02531645569620253,\n",
       "  'f1-score': 0.048780487804878044,\n",
       "  'support': 158},\n",
       " 'tools': {'precision': 0.5,\n",
       "  'recall': 0.030303030303030304,\n",
       "  'f1-score': 0.05714285714285715,\n",
       "  'support': 66},\n",
       " 'hospitals': {'precision': 0.5,\n",
       "  'recall': 0.021739130434782608,\n",
       "  'f1-score': 0.041666666666666664,\n",
       "  'support': 92},\n",
       " 'shops': {'precision': 0.6666666666666666,\n",
       "  'recall': 0.03076923076923077,\n",
       "  'f1-score': 0.05882352941176471,\n",
       "  'support': 65},\n",
       " 'aid_centers': {'precision': 0.5,\n",
       "  'recall': 0.021505376344086023,\n",
       "  'f1-score': 0.04123711340206186,\n",
       "  'support': 93},\n",
       " 'other_infrastructure': {'precision': 0.5714285714285714,\n",
       "  'recall': 0.016194331983805668,\n",
       "  'f1-score': 0.031496062992125984,\n",
       "  'support': 247},\n",
       " 'weather_related': {'precision': 0.7904066736183525,\n",
       "  'recall': 0.5033200531208499,\n",
       "  'f1-score': 0.6150101419878297,\n",
       "  'support': 1506},\n",
       " 'floods': {'precision': 0.8297872340425532,\n",
       "  'recall': 0.0851528384279476,\n",
       "  'f1-score': 0.15445544554455448,\n",
       "  'support': 458},\n",
       " 'storm': {'precision': 0.8082191780821918,\n",
       "  'recall': 0.1138996138996139,\n",
       "  'f1-score': 0.19966159052453467,\n",
       "  'support': 518},\n",
       " 'fire': {'precision': 0.75,\n",
       "  'recall': 0.03260869565217391,\n",
       "  'f1-score': 0.06249999999999999,\n",
       "  'support': 92},\n",
       " 'earthquake': {'precision': 0.8029197080291971,\n",
       "  'recall': 0.20676691729323307,\n",
       "  'f1-score': 0.32884902840059793,\n",
       "  'support': 532},\n",
       " 'cold': {'precision': 0.5,\n",
       "  'recall': 0.01935483870967742,\n",
       "  'f1-score': 0.037267080745341616,\n",
       "  'support': 155},\n",
       " 'other_weather': {'precision': 0.5714285714285714,\n",
       "  'recall': 0.012422360248447204,\n",
       "  'f1-score': 0.0243161094224924,\n",
       "  'support': 322},\n",
       " 'direct_report': {'precision': 0.7566265060240964,\n",
       "  'recall': 0.29904761904761906,\n",
       "  'f1-score': 0.42866894197952227,\n",
       "  'support': 1050},\n",
       " 'micro avg': {'precision': 0.7740716753022453,\n",
       "  'recall': 0.40349988746342563,\n",
       "  'f1-score': 0.530477881343394,\n",
       "  'support': 17772},\n",
       " 'macro avg': {'precision': 0.6361455639686563,\n",
       "  'recall': 0.11106669468103364,\n",
       "  'f1-score': 0.14694637489581694,\n",
       "  'support': 17772},\n",
       " 'weighted avg': {'precision': 0.711209836820022,\n",
       "  'recall': 0.40349988746342563,\n",
       "  'f1-score': 0.4265870459242392,\n",
       "  'support': 17772},\n",
       " 'samples avg': {'precision': 0.6946507508721467,\n",
       "  'recall': 0.42523830480256586,\n",
       "  'f1-score': 0.4719875717046763,\n",
       "  'support': 17772}}"
      ]
     },
     "execution_count": 15,
     "metadata": {},
     "output_type": "execute_result"
    }
   ],
   "source": [
    "X_train, X_test, y_train, y_test = train_test_split(X, y, test_size = 0.2)\n",
    "cv.fit(X_train, y_train)\n",
    "y_pred = cv.predict(X_test)\n",
    "label = list(df.drop(['id','message','original','genre'], axis=1).columns)\n",
    "classification_report(y_test, y_pred, output_dict=True, target_names=label)"
   ]
  },
  {
   "cell_type": "code",
   "execution_count": 5,
   "metadata": {},
   "outputs": [],
   "source": [
    "class LengthExtractor(BaseEstimator, TransformerMixin):\n",
    "\n",
    "    def fit(self, X, y=None):\n",
    "        return self\n",
    "\n",
    "    def transform(self, X):\n",
    "        X_length = pd.Series(X).apply(len)\n",
    "        return pd.DataFrame(X_length)"
   ]
  },
  {
   "cell_type": "code",
   "execution_count": 10,
   "metadata": {},
   "outputs": [],
   "source": [
    "pipeline = Pipeline([\n",
    "    ('features', FeatureUnion([\n",
    "    ('text_pipeline', Pipeline([\n",
    "    ('vect', CountVectorizer(tokenizer=tokenize)),\n",
    "    ('tfidf', TfidfTransformer())\n",
    "        ])),\n",
    "        ('starting_verb', StartingVerbExtractor()),\n",
    "        ('length_extractor', LengthExtractor())\n",
    "    ])),\n",
    "    ('clf', MultiOutputClassifier(MultinomialNB())) \n",
    "    ])\n",
    "\n",
    "parameters = [\n",
    "    {\n",
    "    \"clf\": [MultiOutputClassifier(RandomForestClassifier())],\n",
    "    'clf__estimator__n_estimators': [10],\n",
    "    'features__text_pipeline__vect__ngram_range': [(1, 1)]\n",
    "    },\n",
    "    {\n",
    "    'clf': [MultiOutputClassifier(MultinomialNB())],\n",
    "    'clf__estimator__alpha': [0.5, 1.5],\n",
    "    'features__text_pipeline__vect__ngram_range': [(1, 1)]\n",
    "    }]\n",
    "\n",
    "\n",
    "cv = GridSearchCV(pipeline, param_grid = parameters, scoring=[\"f1_weighted\", \"f1_micro\", \"f1_samples\"],\n",
    "        refit=\"f1_weighted\")"
   ]
  },
  {
   "cell_type": "code",
   "execution_count": 11,
   "metadata": {},
   "outputs": [
    {
     "name": "stderr",
     "output_type": "stream",
     "text": [
      "/Users/dhaneswaramandrasat/anaconda3/envs/dsnd/lib/python3.8/site-packages/sklearn/metrics/_classification.py:1514: UndefinedMetricWarning: F-score is ill-defined and being set to 0.0 in samples with no true nor predicted labels. Use `zero_division` parameter to control this behavior.\n",
      "  _warn_prf(\n",
      "/Users/dhaneswaramandrasat/anaconda3/envs/dsnd/lib/python3.8/site-packages/sklearn/metrics/_classification.py:1514: UndefinedMetricWarning: F-score is ill-defined and being set to 0.0 in samples with no true nor predicted labels. Use `zero_division` parameter to control this behavior.\n",
      "  _warn_prf(\n",
      "/Users/dhaneswaramandrasat/anaconda3/envs/dsnd/lib/python3.8/site-packages/sklearn/metrics/_classification.py:1514: UndefinedMetricWarning: F-score is ill-defined and being set to 0.0 in samples with no true nor predicted labels. Use `zero_division` parameter to control this behavior.\n",
      "  _warn_prf(\n",
      "/Users/dhaneswaramandrasat/anaconda3/envs/dsnd/lib/python3.8/site-packages/sklearn/metrics/_classification.py:1514: UndefinedMetricWarning: F-score is ill-defined and being set to 0.0 in samples with no true nor predicted labels. Use `zero_division` parameter to control this behavior.\n",
      "  _warn_prf(\n",
      "/Users/dhaneswaramandrasat/anaconda3/envs/dsnd/lib/python3.8/site-packages/sklearn/metrics/_classification.py:1514: UndefinedMetricWarning: F-score is ill-defined and being set to 0.0 in samples with no true nor predicted labels. Use `zero_division` parameter to control this behavior.\n",
      "  _warn_prf(\n",
      "/Users/dhaneswaramandrasat/anaconda3/envs/dsnd/lib/python3.8/site-packages/sklearn/metrics/_classification.py:1514: UndefinedMetricWarning: F-score is ill-defined and being set to 0.0 in samples with no true nor predicted labels. Use `zero_division` parameter to control this behavior.\n",
      "  _warn_prf(\n",
      "/Users/dhaneswaramandrasat/anaconda3/envs/dsnd/lib/python3.8/site-packages/sklearn/metrics/_classification.py:1514: UndefinedMetricWarning: F-score is ill-defined and being set to 0.0 in samples with no true nor predicted labels. Use `zero_division` parameter to control this behavior.\n",
      "  _warn_prf(\n",
      "/Users/dhaneswaramandrasat/anaconda3/envs/dsnd/lib/python3.8/site-packages/sklearn/metrics/_classification.py:1514: UndefinedMetricWarning: F-score is ill-defined and being set to 0.0 in samples with no true nor predicted labels. Use `zero_division` parameter to control this behavior.\n",
      "  _warn_prf(\n",
      "/Users/dhaneswaramandrasat/anaconda3/envs/dsnd/lib/python3.8/site-packages/sklearn/metrics/_classification.py:1514: UndefinedMetricWarning: F-score is ill-defined and being set to 0.0 in samples with no true nor predicted labels. Use `zero_division` parameter to control this behavior.\n",
      "  _warn_prf(\n",
      "/Users/dhaneswaramandrasat/anaconda3/envs/dsnd/lib/python3.8/site-packages/sklearn/metrics/_classification.py:1514: UndefinedMetricWarning: F-score is ill-defined and being set to 0.0 in samples with no true nor predicted labels. Use `zero_division` parameter to control this behavior.\n",
      "  _warn_prf(\n",
      "/Users/dhaneswaramandrasat/anaconda3/envs/dsnd/lib/python3.8/site-packages/sklearn/metrics/_classification.py:1514: UndefinedMetricWarning: F-score is ill-defined and being set to 0.0 in samples with no true nor predicted labels. Use `zero_division` parameter to control this behavior.\n",
      "  _warn_prf(\n",
      "/Users/dhaneswaramandrasat/anaconda3/envs/dsnd/lib/python3.8/site-packages/sklearn/metrics/_classification.py:1514: UndefinedMetricWarning: F-score is ill-defined and being set to 0.0 in samples with no true nor predicted labels. Use `zero_division` parameter to control this behavior.\n",
      "  _warn_prf(\n",
      "/Users/dhaneswaramandrasat/anaconda3/envs/dsnd/lib/python3.8/site-packages/sklearn/metrics/_classification.py:1514: UndefinedMetricWarning: F-score is ill-defined and being set to 0.0 in samples with no true nor predicted labels. Use `zero_division` parameter to control this behavior.\n",
      "  _warn_prf(\n",
      "/Users/dhaneswaramandrasat/anaconda3/envs/dsnd/lib/python3.8/site-packages/sklearn/metrics/_classification.py:1514: UndefinedMetricWarning: F-score is ill-defined and being set to 0.0 in samples with no true nor predicted labels. Use `zero_division` parameter to control this behavior.\n",
      "  _warn_prf(\n",
      "/Users/dhaneswaramandrasat/anaconda3/envs/dsnd/lib/python3.8/site-packages/sklearn/metrics/_classification.py:1272: UndefinedMetricWarning: Precision and F-score are ill-defined and being set to 0.0 in samples with no predicted labels. Use `zero_division` parameter to control this behavior.\n",
      "  _warn_prf(average, modifier, msg_start, len(result))\n",
      "/Users/dhaneswaramandrasat/anaconda3/envs/dsnd/lib/python3.8/site-packages/sklearn/metrics/_classification.py:1272: UndefinedMetricWarning: Recall and F-score are ill-defined and being set to 0.0 in samples with no true labels. Use `zero_division` parameter to control this behavior.\n",
      "  _warn_prf(average, modifier, msg_start, len(result))\n"
     ]
    },
    {
     "data": {
      "text/plain": [
       "{'related': {'precision': 0.8445349626612356,\n",
       "  'recall': 0.9246778989098117,\n",
       "  'f1-score': 0.8827912477823772,\n",
       "  'support': 4036},\n",
       " 'request': {'precision': 0.8116760828625236,\n",
       "  'recall': 0.44849115504682624,\n",
       "  'f1-score': 0.5777479892761394,\n",
       "  'support': 961},\n",
       " 'offer': {'precision': 1.0,\n",
       "  'recall': 0.109375,\n",
       "  'f1-score': 0.19718309859154928,\n",
       "  'support': 64},\n",
       " 'aid_related': {'precision': 0.7350054525627044,\n",
       "  'recall': 0.6127272727272727,\n",
       "  'f1-score': 0.6683192860684184,\n",
       "  'support': 2200},\n",
       " 'medical_help': {'precision': 0.5825242718446602,\n",
       "  'recall': 0.13157894736842105,\n",
       "  'f1-score': 0.2146690518783542,\n",
       "  'support': 456},\n",
       " 'medical_products': {'precision': 0.7254901960784313,\n",
       "  'recall': 0.10979228486646884,\n",
       "  'f1-score': 0.1907216494845361,\n",
       "  'support': 337},\n",
       " 'search_and_rescue': {'precision': 0.6086956521739131,\n",
       "  'recall': 0.07567567567567568,\n",
       "  'f1-score': 0.13461538461538464,\n",
       "  'support': 185},\n",
       " 'security': {'precision': 0.5384615384615384,\n",
       "  'recall': 0.04861111111111111,\n",
       "  'f1-score': 0.08917197452229299,\n",
       "  'support': 144},\n",
       " 'military': {'precision': 0.6129032258064516,\n",
       "  'recall': 0.09268292682926829,\n",
       "  'f1-score': 0.1610169491525424,\n",
       "  'support': 205},\n",
       " 'child_alone': {'precision': 0.7,\n",
       "  'recall': 0.17073170731707318,\n",
       "  'f1-score': 0.2745098039215686,\n",
       "  'support': 41},\n",
       " 'water': {'precision': 0.8560606060606061,\n",
       "  'recall': 0.2875318066157761,\n",
       "  'f1-score': 0.4304761904761905,\n",
       "  'support': 393},\n",
       " 'food': {'precision': 0.856,\n",
       "  'recall': 0.4863636363636364,\n",
       "  'f1-score': 0.6202898550724637,\n",
       "  'support': 660},\n",
       " 'shelter': {'precision': 0.81,\n",
       "  'recall': 0.2967032967032967,\n",
       "  'f1-score': 0.4343163538873994,\n",
       "  'support': 546},\n",
       " 'clothing': {'precision': 0.7948717948717948,\n",
       "  'recall': 0.23846153846153847,\n",
       "  'f1-score': 0.36686390532544383,\n",
       "  'support': 130},\n",
       " 'money': {'precision': 0.8,\n",
       "  'recall': 0.04878048780487805,\n",
       "  'f1-score': 0.09195402298850576,\n",
       "  'support': 164},\n",
       " 'missing_people': {'precision': 0.8571428571428571,\n",
       "  'recall': 0.05825242718446602,\n",
       "  'f1-score': 0.1090909090909091,\n",
       "  'support': 103},\n",
       " 'refugees': {'precision': 0.7027027027027027,\n",
       "  'recall': 0.11926605504587157,\n",
       "  'f1-score': 0.20392156862745098,\n",
       "  'support': 218},\n",
       " 'death': {'precision': 0.7666666666666667,\n",
       "  'recall': 0.25650557620817843,\n",
       "  'f1-score': 0.38440111420612816,\n",
       "  'support': 269},\n",
       " 'other_aid': {'precision': 0.5,\n",
       "  'recall': 0.0536231884057971,\n",
       "  'f1-score': 0.0968586387434555,\n",
       "  'support': 690},\n",
       " 'infrastructure_related': {'precision': 0.4,\n",
       "  'recall': 0.016172506738544475,\n",
       "  'f1-score': 0.031088082901554407,\n",
       "  'support': 371},\n",
       " 'transport': {'precision': 0.7105263157894737,\n",
       "  'recall': 0.10227272727272728,\n",
       "  'f1-score': 0.17880794701986755,\n",
       "  'support': 264},\n",
       " 'buildings': {'precision': 0.7843137254901961,\n",
       "  'recall': 0.12944983818770225,\n",
       "  'f1-score': 0.2222222222222222,\n",
       "  'support': 309},\n",
       " 'electricity': {'precision': 0.7894736842105263,\n",
       "  'recall': 0.11363636363636363,\n",
       "  'f1-score': 0.1986754966887417,\n",
       "  'support': 132},\n",
       " 'tools': {'precision': 0.6666666666666666,\n",
       "  'recall': 0.08,\n",
       "  'f1-score': 0.14285714285714285,\n",
       "  'support': 75},\n",
       " 'hospitals': {'precision': 0.6666666666666666,\n",
       "  'recall': 0.06521739130434782,\n",
       "  'f1-score': 0.11881188118811882,\n",
       "  'support': 92},\n",
       " 'shops': {'precision': 0.75,\n",
       "  'recall': 0.04838709677419355,\n",
       "  'f1-score': 0.0909090909090909,\n",
       "  'support': 62},\n",
       " 'aid_centers': {'precision': 1.0,\n",
       "  'recall': 0.0625,\n",
       "  'f1-score': 0.11764705882352941,\n",
       "  'support': 112},\n",
       " 'other_infrastructure': {'precision': 0.5,\n",
       "  'recall': 0.01937984496124031,\n",
       "  'f1-score': 0.03731343283582089,\n",
       "  'support': 258},\n",
       " 'weather_related': {'precision': 0.8312387791741472,\n",
       "  'recall': 0.6223118279569892,\n",
       "  'f1-score': 0.711760184473482,\n",
       "  'support': 1488},\n",
       " 'floods': {'precision': 0.88,\n",
       "  'recall': 0.4125,\n",
       "  'f1-score': 0.5617021276595745,\n",
       "  'support': 480},\n",
       " 'storm': {'precision': 0.7331460674157303,\n",
       "  'recall': 0.5058139534883721,\n",
       "  'f1-score': 0.5986238532110091,\n",
       "  'support': 516},\n",
       " 'fire': {'precision': 0.75,\n",
       "  'recall': 0.03125,\n",
       "  'f1-score': 0.06,\n",
       "  'support': 96},\n",
       " 'earthquake': {'precision': 0.8642857142857143,\n",
       "  'recall': 0.6672794117647058,\n",
       "  'f1-score': 0.7531120331950207,\n",
       "  'support': 544},\n",
       " 'cold': {'precision': 0.5333333333333333,\n",
       "  'recall': 0.10596026490066225,\n",
       "  'f1-score': 0.17679558011049723,\n",
       "  'support': 151},\n",
       " 'other_weather': {'precision': 0.5625,\n",
       "  'recall': 0.061224489795918366,\n",
       "  'f1-score': 0.11042944785276074,\n",
       "  'support': 294},\n",
       " 'direct_report': {'precision': 0.7338877338877339,\n",
       "  'recall': 0.3339640491958373,\n",
       "  'f1-score': 0.459037711313394,\n",
       "  'support': 1057},\n",
       " 'micro avg': {'precision': 0.8037002775208141,\n",
       "  'recall': 0.4799204551731757,\n",
       "  'f1-score': 0.600975339812541,\n",
       "  'support': 18103},\n",
       " 'macro avg': {'precision': 0.7294104082448966,\n",
       "  'recall': 0.22075421551730476,\n",
       "  'f1-score': 0.29718645241591496,\n",
       "  'support': 18103},\n",
       " 'weighted avg': {'precision': 0.7610807220034957,\n",
       "  'recall': 0.4799204551731757,\n",
       "  'f1-score': 0.5386289040927882,\n",
       "  'support': 18103},\n",
       " 'samples avg': {'precision': 0.6433128134026905,\n",
       "  'recall': 0.459499137222329,\n",
       "  'f1-score': 0.48605838975351956,\n",
       "  'support': 18103}}"
      ]
     },
     "execution_count": 11,
     "metadata": {},
     "output_type": "execute_result"
    }
   ],
   "source": [
    "X_train, X_test, y_train, y_test = train_test_split(X, y, test_size = 0.2)\n",
    "cv.fit(X_train, y_train)\n",
    "y_pred = cv.predict(X_test)\n",
    "label = list(df.drop(['id','message','original','genre'], axis=1).columns)\n",
    "classification_report(y_test, y_pred, output_dict=True, target_names=label)"
   ]
  },
  {
   "cell_type": "code",
   "execution_count": 12,
   "metadata": {},
   "outputs": [
    {
     "data": {
      "text/plain": [
       "0.5230761875295227"
      ]
     },
     "execution_count": 12,
     "metadata": {},
     "output_type": "execute_result"
    }
   ],
   "source": [
    "cv.best_score_"
   ]
  },
  {
   "cell_type": "code",
   "execution_count": 15,
   "metadata": {},
   "outputs": [
    {
     "data": {
      "text/plain": [
       "MultiOutputClassifier(estimator=RandomForestClassifier(bootstrap=True,\n",
       "                                                       ccp_alpha=0.0,\n",
       "                                                       class_weight=None,\n",
       "                                                       criterion='gini',\n",
       "                                                       max_depth=None,\n",
       "                                                       max_features='auto',\n",
       "                                                       max_leaf_nodes=None,\n",
       "                                                       max_samples=None,\n",
       "                                                       min_impurity_decrease=0.0,\n",
       "                                                       min_impurity_split=None,\n",
       "                                                       min_samples_leaf=1,\n",
       "                                                       min_samples_split=2,\n",
       "                                                       min_weight_fraction_leaf=0.0,\n",
       "                                                       n_estimators=10,\n",
       "                                                       n_jobs=None,\n",
       "                                                       oob_score=False,\n",
       "                                                       random_state=None,\n",
       "                                                       verbose=0,\n",
       "                                                       warm_start=False),\n",
       "                      n_jobs=None)"
      ]
     },
     "execution_count": 15,
     "metadata": {},
     "output_type": "execute_result"
    }
   ],
   "source": [
    "cv.best_estimator_.get_params()['clf']"
   ]
  },
  {
   "cell_type": "code",
   "execution_count": 16,
   "metadata": {},
   "outputs": [
    {
     "data": {
      "text/html": [
       "<div>\n",
       "<style scoped>\n",
       "    .dataframe tbody tr th:only-of-type {\n",
       "        vertical-align: middle;\n",
       "    }\n",
       "\n",
       "    .dataframe tbody tr th {\n",
       "        vertical-align: top;\n",
       "    }\n",
       "\n",
       "    .dataframe thead th {\n",
       "        text-align: right;\n",
       "    }\n",
       "</style>\n",
       "<table border=\"1\" class=\"dataframe\">\n",
       "  <thead>\n",
       "    <tr style=\"text-align: right;\">\n",
       "      <th></th>\n",
       "      <th>mean_fit_time</th>\n",
       "      <th>std_fit_time</th>\n",
       "      <th>mean_score_time</th>\n",
       "      <th>std_score_time</th>\n",
       "      <th>param_clf</th>\n",
       "      <th>param_clf__estimator__n_estimators</th>\n",
       "      <th>param_features__text_pipeline__vect__ngram_range</th>\n",
       "      <th>param_clf__estimator__alpha</th>\n",
       "      <th>params</th>\n",
       "      <th>split0_test_f1_weighted</th>\n",
       "      <th>...</th>\n",
       "      <th>std_test_f1_micro</th>\n",
       "      <th>rank_test_f1_micro</th>\n",
       "      <th>split0_test_f1_samples</th>\n",
       "      <th>split1_test_f1_samples</th>\n",
       "      <th>split2_test_f1_samples</th>\n",
       "      <th>split3_test_f1_samples</th>\n",
       "      <th>split4_test_f1_samples</th>\n",
       "      <th>mean_test_f1_samples</th>\n",
       "      <th>std_test_f1_samples</th>\n",
       "      <th>rank_test_f1_samples</th>\n",
       "    </tr>\n",
       "  </thead>\n",
       "  <tbody>\n",
       "    <tr>\n",
       "      <th>0</th>\n",
       "      <td>139.052664</td>\n",
       "      <td>9.283140</td>\n",
       "      <td>27.515644</td>\n",
       "      <td>0.597453</td>\n",
       "      <td>MultiOutputClassifier(estimator=RandomForestCl...</td>\n",
       "      <td>10</td>\n",
       "      <td>(1, 1)</td>\n",
       "      <td>NaN</td>\n",
       "      <td>{'clf': MultiOutputClassifier(estimator=Random...</td>\n",
       "      <td>0.530956</td>\n",
       "      <td>...</td>\n",
       "      <td>0.009289</td>\n",
       "      <td>1</td>\n",
       "      <td>0.489770</td>\n",
       "      <td>0.481471</td>\n",
       "      <td>0.486679</td>\n",
       "      <td>0.484372</td>\n",
       "      <td>0.472507</td>\n",
       "      <td>0.482960</td>\n",
       "      <td>0.005894</td>\n",
       "      <td>1</td>\n",
       "    </tr>\n",
       "    <tr>\n",
       "      <th>1</th>\n",
       "      <td>96.379920</td>\n",
       "      <td>0.444683</td>\n",
       "      <td>24.550847</td>\n",
       "      <td>0.482630</td>\n",
       "      <td>MultiOutputClassifier(estimator=MultinomialNB(...</td>\n",
       "      <td>NaN</td>\n",
       "      <td>(1, 1)</td>\n",
       "      <td>0.5</td>\n",
       "      <td>{'clf': MultiOutputClassifier(estimator=Multin...</td>\n",
       "      <td>0.383818</td>\n",
       "      <td>...</td>\n",
       "      <td>0.006029</td>\n",
       "      <td>2</td>\n",
       "      <td>0.471657</td>\n",
       "      <td>0.469461</td>\n",
       "      <td>0.475397</td>\n",
       "      <td>0.472116</td>\n",
       "      <td>0.464206</td>\n",
       "      <td>0.470567</td>\n",
       "      <td>0.003704</td>\n",
       "      <td>2</td>\n",
       "    </tr>\n",
       "    <tr>\n",
       "      <th>2</th>\n",
       "      <td>96.753494</td>\n",
       "      <td>1.117447</td>\n",
       "      <td>24.814322</td>\n",
       "      <td>1.328778</td>\n",
       "      <td>MultiOutputClassifier(estimator=MultinomialNB(...</td>\n",
       "      <td>NaN</td>\n",
       "      <td>(1, 1)</td>\n",
       "      <td>1.5</td>\n",
       "      <td>{'clf': MultiOutputClassifier(estimator=Multin...</td>\n",
       "      <td>0.303140</td>\n",
       "      <td>...</td>\n",
       "      <td>0.005896</td>\n",
       "      <td>3</td>\n",
       "      <td>0.449307</td>\n",
       "      <td>0.450265</td>\n",
       "      <td>0.452437</td>\n",
       "      <td>0.450112</td>\n",
       "      <td>0.438883</td>\n",
       "      <td>0.448201</td>\n",
       "      <td>0.004773</td>\n",
       "      <td>3</td>\n",
       "    </tr>\n",
       "  </tbody>\n",
       "</table>\n",
       "<p>3 rows × 33 columns</p>\n",
       "</div>"
      ],
      "text/plain": [
       "   mean_fit_time  std_fit_time  mean_score_time  std_score_time  \\\n",
       "0     139.052664      9.283140        27.515644        0.597453   \n",
       "1      96.379920      0.444683        24.550847        0.482630   \n",
       "2      96.753494      1.117447        24.814322        1.328778   \n",
       "\n",
       "                                           param_clf  \\\n",
       "0  MultiOutputClassifier(estimator=RandomForestCl...   \n",
       "1  MultiOutputClassifier(estimator=MultinomialNB(...   \n",
       "2  MultiOutputClassifier(estimator=MultinomialNB(...   \n",
       "\n",
       "  param_clf__estimator__n_estimators  \\\n",
       "0                                 10   \n",
       "1                                NaN   \n",
       "2                                NaN   \n",
       "\n",
       "  param_features__text_pipeline__vect__ngram_range  \\\n",
       "0                                           (1, 1)   \n",
       "1                                           (1, 1)   \n",
       "2                                           (1, 1)   \n",
       "\n",
       "  param_clf__estimator__alpha  \\\n",
       "0                         NaN   \n",
       "1                         0.5   \n",
       "2                         1.5   \n",
       "\n",
       "                                              params  split0_test_f1_weighted  \\\n",
       "0  {'clf': MultiOutputClassifier(estimator=Random...                 0.530956   \n",
       "1  {'clf': MultiOutputClassifier(estimator=Multin...                 0.383818   \n",
       "2  {'clf': MultiOutputClassifier(estimator=Multin...                 0.303140   \n",
       "\n",
       "   ...  std_test_f1_micro  rank_test_f1_micro  split0_test_f1_samples  \\\n",
       "0  ...           0.009289                   1                0.489770   \n",
       "1  ...           0.006029                   2                0.471657   \n",
       "2  ...           0.005896                   3                0.449307   \n",
       "\n",
       "   split1_test_f1_samples  split2_test_f1_samples  split3_test_f1_samples  \\\n",
       "0                0.481471                0.486679                0.484372   \n",
       "1                0.469461                0.475397                0.472116   \n",
       "2                0.450265                0.452437                0.450112   \n",
       "\n",
       "   split4_test_f1_samples  mean_test_f1_samples  std_test_f1_samples  \\\n",
       "0                0.472507              0.482960             0.005894   \n",
       "1                0.464206              0.470567             0.003704   \n",
       "2                0.438883              0.448201             0.004773   \n",
       "\n",
       "   rank_test_f1_samples  \n",
       "0                     1  \n",
       "1                     2  \n",
       "2                     3  \n",
       "\n",
       "[3 rows x 33 columns]"
      ]
     },
     "execution_count": 16,
     "metadata": {},
     "output_type": "execute_result"
    }
   ],
   "source": [
    "df = pd.DataFrame.from_dict(cv.cv_results_)\n",
    "df"
   ]
  },
  {
   "cell_type": "code",
   "execution_count": 17,
   "metadata": {},
   "outputs": [
    {
     "data": {
      "text/plain": [
       "0    0.523076\n",
       "1    0.384808\n",
       "2    0.302147\n",
       "Name: mean_test_f1_weighted, dtype: float64"
      ]
     },
     "execution_count": 17,
     "metadata": {},
     "output_type": "execute_result"
    }
   ],
   "source": [
    "df[\"mean_test_f1_weighted\"]"
   ]
  },
  {
   "cell_type": "code",
   "execution_count": 18,
   "metadata": {},
   "outputs": [
    {
     "data": {
      "text/plain": [
       "0    0.590459\n",
       "1    0.509360\n",
       "2    0.455127\n",
       "Name: mean_test_f1_micro, dtype: float64"
      ]
     },
     "execution_count": 18,
     "metadata": {},
     "output_type": "execute_result"
    }
   ],
   "source": [
    "df[\"mean_test_f1_micro\"]"
   ]
  },
  {
   "cell_type": "code",
   "execution_count": 19,
   "metadata": {},
   "outputs": [
    {
     "data": {
      "text/plain": [
       "0    0.482960\n",
       "1    0.470567\n",
       "2    0.448201\n",
       "Name: mean_test_f1_samples, dtype: float64"
      ]
     },
     "execution_count": 19,
     "metadata": {},
     "output_type": "execute_result"
    }
   ],
   "source": [
    "df[\"mean_test_f1_samples\"]"
   ]
  },
  {
   "cell_type": "code",
   "execution_count": 7,
   "metadata": {},
   "outputs": [],
   "source": [
    "pipeline = Pipeline([\n",
    "    ('features', FeatureUnion([\n",
    "    ('text_pipeline', Pipeline([\n",
    "    ('vect', CountVectorizer(tokenizer=tokenize)),\n",
    "    ('tfidf', TfidfTransformer())\n",
    "        ])),\n",
    "        ('starting_verb', StartingVerbExtractor()),\n",
    "        ('length_extractor', LengthExtractor())\n",
    "    ])),\n",
    "    ('clf', MultiOutputClassifier(RandomForestClassifier())) \n",
    "])"
   ]
  },
  {
   "cell_type": "code",
   "execution_count": 22,
   "metadata": {},
   "outputs": [
    {
     "data": {
      "text/plain": [
       "dict_keys(['memory', 'steps', 'verbose', 'features', 'clf', 'features__n_jobs', 'features__transformer_list', 'features__transformer_weights', 'features__verbose', 'features__text_pipeline', 'features__starting_verb', 'features__length_extractor', 'features__text_pipeline__memory', 'features__text_pipeline__steps', 'features__text_pipeline__verbose', 'features__text_pipeline__vect', 'features__text_pipeline__tfidf', 'features__text_pipeline__vect__analyzer', 'features__text_pipeline__vect__binary', 'features__text_pipeline__vect__decode_error', 'features__text_pipeline__vect__dtype', 'features__text_pipeline__vect__encoding', 'features__text_pipeline__vect__input', 'features__text_pipeline__vect__lowercase', 'features__text_pipeline__vect__max_df', 'features__text_pipeline__vect__max_features', 'features__text_pipeline__vect__min_df', 'features__text_pipeline__vect__ngram_range', 'features__text_pipeline__vect__preprocessor', 'features__text_pipeline__vect__stop_words', 'features__text_pipeline__vect__strip_accents', 'features__text_pipeline__vect__token_pattern', 'features__text_pipeline__vect__tokenizer', 'features__text_pipeline__vect__vocabulary', 'features__text_pipeline__tfidf__norm', 'features__text_pipeline__tfidf__smooth_idf', 'features__text_pipeline__tfidf__sublinear_tf', 'features__text_pipeline__tfidf__use_idf', 'clf__estimator__bootstrap', 'clf__estimator__ccp_alpha', 'clf__estimator__class_weight', 'clf__estimator__criterion', 'clf__estimator__max_depth', 'clf__estimator__max_features', 'clf__estimator__max_leaf_nodes', 'clf__estimator__max_samples', 'clf__estimator__min_impurity_decrease', 'clf__estimator__min_impurity_split', 'clf__estimator__min_samples_leaf', 'clf__estimator__min_samples_split', 'clf__estimator__min_weight_fraction_leaf', 'clf__estimator__n_estimators', 'clf__estimator__n_jobs', 'clf__estimator__oob_score', 'clf__estimator__random_state', 'clf__estimator__verbose', 'clf__estimator__warm_start', 'clf__estimator', 'clf__n_jobs'])"
      ]
     },
     "execution_count": 22,
     "metadata": {},
     "output_type": "execute_result"
    }
   ],
   "source": [
    "pipeline.get_params().keys()"
   ]
  },
  {
   "cell_type": "code",
   "execution_count": 8,
   "metadata": {},
   "outputs": [],
   "source": [
    "parameters = {\n",
    "    'clf__estimator__n_estimators': [10, 50],\n",
    "    \"clf__estimator__max_depth\": [5, 10],\n",
    "    'clf__estimator__min_samples_split': [2, 4],\n",
    "    'features__text_pipeline__tfidf__use_idf': (True, False),\n",
    "    'features__text_pipeline__vect__ngram_range': [(1, 1)],\n",
    "    'features__transformer_weights': (\n",
    "            {'text_pipeline': 1, 'starting_verb': 0.5,'length_extractor':0.25},\n",
    "            {'text_pipeline': 0.8, 'starting_verb': 1,'length_extractor':0.5},\n",
    "    )\n",
    "}\n",
    "\n",
    "cv = GridSearchCV(pipeline, param_grid = parameters, scoring=[\"f1_weighted\", \"f1_micro\", \"f1_samples\"],\n",
    "        refit=\"f1_weighted\")"
   ]
  },
  {
   "cell_type": "code",
   "execution_count": null,
   "metadata": {},
   "outputs": [],
   "source": [
    "X_train, X_test, y_train, y_test = train_test_split(X, y, test_size = 0.2)\n",
    "cv.fit(X_train, y_train)\n",
    "y_pred = cv.predict(X_test)\n",
    "label = list(df.drop(['id','message','original','genre'], axis=1).columns)\n",
    "classification_report(y_test, y_pred, output_dict=True, target_names=label)"
   ]
  },
  {
   "cell_type": "code",
   "execution_count": 6,
   "metadata": {},
   "outputs": [],
   "source": [
    "pipeline = Pipeline([\n",
    "    ('features', FeatureUnion([\n",
    "    ('text_pipeline', Pipeline([\n",
    "    ('vect', CountVectorizer(tokenizer=tokenize)),\n",
    "    ('tfidf', TfidfTransformer())\n",
    "        ])),\n",
    "        ('starting_verb', StartingVerbExtractor()),\n",
    "        ('length_extractor', LengthExtractor())\n",
    "    ])),\n",
    "    ('clf', MultiOutputClassifier(LinearSVC(dual=False))) \n",
    "])"
   ]
  },
  {
   "cell_type": "code",
   "execution_count": 9,
   "metadata": {},
   "outputs": [
    {
     "data": {
      "text/plain": [
       "dict_keys(['memory', 'steps', 'verbose', 'features', 'clf', 'features__n_jobs', 'features__transformer_list', 'features__transformer_weights', 'features__verbose', 'features__text_pipeline', 'features__starting_verb', 'features__length_extractor', 'features__text_pipeline__memory', 'features__text_pipeline__steps', 'features__text_pipeline__verbose', 'features__text_pipeline__vect', 'features__text_pipeline__tfidf', 'features__text_pipeline__vect__analyzer', 'features__text_pipeline__vect__binary', 'features__text_pipeline__vect__decode_error', 'features__text_pipeline__vect__dtype', 'features__text_pipeline__vect__encoding', 'features__text_pipeline__vect__input', 'features__text_pipeline__vect__lowercase', 'features__text_pipeline__vect__max_df', 'features__text_pipeline__vect__max_features', 'features__text_pipeline__vect__min_df', 'features__text_pipeline__vect__ngram_range', 'features__text_pipeline__vect__preprocessor', 'features__text_pipeline__vect__stop_words', 'features__text_pipeline__vect__strip_accents', 'features__text_pipeline__vect__token_pattern', 'features__text_pipeline__vect__tokenizer', 'features__text_pipeline__vect__vocabulary', 'features__text_pipeline__tfidf__norm', 'features__text_pipeline__tfidf__smooth_idf', 'features__text_pipeline__tfidf__sublinear_tf', 'features__text_pipeline__tfidf__use_idf', 'clf__estimator__C', 'clf__estimator__class_weight', 'clf__estimator__dual', 'clf__estimator__fit_intercept', 'clf__estimator__intercept_scaling', 'clf__estimator__loss', 'clf__estimator__max_iter', 'clf__estimator__multi_class', 'clf__estimator__penalty', 'clf__estimator__random_state', 'clf__estimator__tol', 'clf__estimator__verbose', 'clf__estimator', 'clf__n_jobs'])"
      ]
     },
     "execution_count": 9,
     "metadata": {},
     "output_type": "execute_result"
    }
   ],
   "source": [
    "pipeline.get_params().keys()"
   ]
  },
  {
   "cell_type": "code",
   "execution_count": 7,
   "metadata": {},
   "outputs": [],
   "source": [
    "parameters = {\n",
    "    \"clf__estimator__C\": [1, 5, 10],\n",
    "    \"features__text_pipeline__tfidf__smooth_idf\":[True,False],\n",
    "    'features__text_pipeline__vect__ngram_range': [(1, 1)]\n",
    "}\n",
    "\n",
    "cv = GridSearchCV(pipeline, param_grid = parameters, scoring=[\"f1_weighted\", \"f1_micro\", \"f1_samples\"],\n",
    "        refit=\"f1_weighted\")"
   ]
  },
  {
   "cell_type": "code",
   "execution_count": 8,
   "metadata": {},
   "outputs": [
    {
     "name": "stderr",
     "output_type": "stream",
     "text": [
      "/Users/dhaneswaramandrasat/anaconda3/envs/dsnd/lib/python3.8/site-packages/sklearn/metrics/_classification.py:1514: UndefinedMetricWarning: F-score is ill-defined and being set to 0.0 in samples with no true nor predicted labels. Use `zero_division` parameter to control this behavior.\n",
      "  _warn_prf(\n",
      "/Users/dhaneswaramandrasat/anaconda3/envs/dsnd/lib/python3.8/site-packages/sklearn/metrics/_classification.py:1514: UndefinedMetricWarning: F-score is ill-defined and being set to 0.0 in samples with no true nor predicted labels. Use `zero_division` parameter to control this behavior.\n",
      "  _warn_prf(\n",
      "/Users/dhaneswaramandrasat/anaconda3/envs/dsnd/lib/python3.8/site-packages/sklearn/metrics/_classification.py:1514: UndefinedMetricWarning: F-score is ill-defined and being set to 0.0 in samples with no true nor predicted labels. Use `zero_division` parameter to control this behavior.\n",
      "  _warn_prf(\n",
      "/Users/dhaneswaramandrasat/anaconda3/envs/dsnd/lib/python3.8/site-packages/sklearn/metrics/_classification.py:1514: UndefinedMetricWarning: F-score is ill-defined and being set to 0.0 in samples with no true nor predicted labels. Use `zero_division` parameter to control this behavior.\n",
      "  _warn_prf(\n",
      "/Users/dhaneswaramandrasat/anaconda3/envs/dsnd/lib/python3.8/site-packages/sklearn/metrics/_classification.py:1514: UndefinedMetricWarning: F-score is ill-defined and being set to 0.0 in samples with no true nor predicted labels. Use `zero_division` parameter to control this behavior.\n",
      "  _warn_prf(\n",
      "/Users/dhaneswaramandrasat/anaconda3/envs/dsnd/lib/python3.8/site-packages/sklearn/metrics/_classification.py:1514: UndefinedMetricWarning: F-score is ill-defined and being set to 0.0 in samples with no true nor predicted labels. Use `zero_division` parameter to control this behavior.\n",
      "  _warn_prf(\n",
      "/Users/dhaneswaramandrasat/anaconda3/envs/dsnd/lib/python3.8/site-packages/sklearn/metrics/_classification.py:1514: UndefinedMetricWarning: F-score is ill-defined and being set to 0.0 in samples with no true nor predicted labels. Use `zero_division` parameter to control this behavior.\n",
      "  _warn_prf(\n",
      "/Users/dhaneswaramandrasat/anaconda3/envs/dsnd/lib/python3.8/site-packages/sklearn/metrics/_classification.py:1514: UndefinedMetricWarning: F-score is ill-defined and being set to 0.0 in samples with no true nor predicted labels. Use `zero_division` parameter to control this behavior.\n",
      "  _warn_prf(\n",
      "/Users/dhaneswaramandrasat/anaconda3/envs/dsnd/lib/python3.8/site-packages/sklearn/metrics/_classification.py:1514: UndefinedMetricWarning: F-score is ill-defined and being set to 0.0 in samples with no true nor predicted labels. Use `zero_division` parameter to control this behavior.\n",
      "  _warn_prf(\n",
      "/Users/dhaneswaramandrasat/anaconda3/envs/dsnd/lib/python3.8/site-packages/sklearn/metrics/_classification.py:1514: UndefinedMetricWarning: F-score is ill-defined and being set to 0.0 in samples with no true nor predicted labels. Use `zero_division` parameter to control this behavior.\n",
      "  _warn_prf(\n",
      "/Users/dhaneswaramandrasat/anaconda3/envs/dsnd/lib/python3.8/site-packages/sklearn/metrics/_classification.py:1514: UndefinedMetricWarning: F-score is ill-defined and being set to 0.0 in samples with no true nor predicted labels. Use `zero_division` parameter to control this behavior.\n",
      "  _warn_prf(\n",
      "/Users/dhaneswaramandrasat/anaconda3/envs/dsnd/lib/python3.8/site-packages/sklearn/metrics/_classification.py:1514: UndefinedMetricWarning: F-score is ill-defined and being set to 0.0 in samples with no true nor predicted labels. Use `zero_division` parameter to control this behavior.\n",
      "  _warn_prf(\n",
      "/Users/dhaneswaramandrasat/anaconda3/envs/dsnd/lib/python3.8/site-packages/sklearn/metrics/_classification.py:1514: UndefinedMetricWarning: F-score is ill-defined and being set to 0.0 in samples with no true nor predicted labels. Use `zero_division` parameter to control this behavior.\n",
      "  _warn_prf(\n",
      "/Users/dhaneswaramandrasat/anaconda3/envs/dsnd/lib/python3.8/site-packages/sklearn/metrics/_classification.py:1514: UndefinedMetricWarning: F-score is ill-defined and being set to 0.0 in samples with no true nor predicted labels. Use `zero_division` parameter to control this behavior.\n",
      "  _warn_prf(\n",
      "/Users/dhaneswaramandrasat/anaconda3/envs/dsnd/lib/python3.8/site-packages/sklearn/metrics/_classification.py:1514: UndefinedMetricWarning: F-score is ill-defined and being set to 0.0 in samples with no true nor predicted labels. Use `zero_division` parameter to control this behavior.\n",
      "  _warn_prf(\n",
      "/Users/dhaneswaramandrasat/anaconda3/envs/dsnd/lib/python3.8/site-packages/sklearn/metrics/_classification.py:1514: UndefinedMetricWarning: F-score is ill-defined and being set to 0.0 in samples with no true nor predicted labels. Use `zero_division` parameter to control this behavior.\n",
      "  _warn_prf(\n",
      "/Users/dhaneswaramandrasat/anaconda3/envs/dsnd/lib/python3.8/site-packages/sklearn/metrics/_classification.py:1514: UndefinedMetricWarning: F-score is ill-defined and being set to 0.0 in samples with no true nor predicted labels. Use `zero_division` parameter to control this behavior.\n",
      "  _warn_prf(\n",
      "/Users/dhaneswaramandrasat/anaconda3/envs/dsnd/lib/python3.8/site-packages/sklearn/metrics/_classification.py:1514: UndefinedMetricWarning: F-score is ill-defined and being set to 0.0 in samples with no true nor predicted labels. Use `zero_division` parameter to control this behavior.\n",
      "  _warn_prf(\n",
      "/Users/dhaneswaramandrasat/anaconda3/envs/dsnd/lib/python3.8/site-packages/sklearn/metrics/_classification.py:1514: UndefinedMetricWarning: F-score is ill-defined and being set to 0.0 in samples with no true nor predicted labels. Use `zero_division` parameter to control this behavior.\n",
      "  _warn_prf(\n",
      "/Users/dhaneswaramandrasat/anaconda3/envs/dsnd/lib/python3.8/site-packages/sklearn/metrics/_classification.py:1514: UndefinedMetricWarning: F-score is ill-defined and being set to 0.0 in samples with no true nor predicted labels. Use `zero_division` parameter to control this behavior.\n",
      "  _warn_prf(\n",
      "/Users/dhaneswaramandrasat/anaconda3/envs/dsnd/lib/python3.8/site-packages/sklearn/metrics/_classification.py:1514: UndefinedMetricWarning: F-score is ill-defined and being set to 0.0 in samples with no true nor predicted labels. Use `zero_division` parameter to control this behavior.\n",
      "  _warn_prf(\n",
      "/Users/dhaneswaramandrasat/anaconda3/envs/dsnd/lib/python3.8/site-packages/sklearn/metrics/_classification.py:1514: UndefinedMetricWarning: F-score is ill-defined and being set to 0.0 in samples with no true nor predicted labels. Use `zero_division` parameter to control this behavior.\n",
      "  _warn_prf(\n",
      "/Users/dhaneswaramandrasat/anaconda3/envs/dsnd/lib/python3.8/site-packages/sklearn/metrics/_classification.py:1514: UndefinedMetricWarning: F-score is ill-defined and being set to 0.0 in samples with no true nor predicted labels. Use `zero_division` parameter to control this behavior.\n",
      "  _warn_prf(\n",
      "/Users/dhaneswaramandrasat/anaconda3/envs/dsnd/lib/python3.8/site-packages/sklearn/metrics/_classification.py:1514: UndefinedMetricWarning: F-score is ill-defined and being set to 0.0 in samples with no true nor predicted labels. Use `zero_division` parameter to control this behavior.\n",
      "  _warn_prf(\n",
      "/Users/dhaneswaramandrasat/anaconda3/envs/dsnd/lib/python3.8/site-packages/sklearn/metrics/_classification.py:1514: UndefinedMetricWarning: F-score is ill-defined and being set to 0.0 in samples with no true nor predicted labels. Use `zero_division` parameter to control this behavior.\n",
      "  _warn_prf(\n",
      "/Users/dhaneswaramandrasat/anaconda3/envs/dsnd/lib/python3.8/site-packages/sklearn/metrics/_classification.py:1514: UndefinedMetricWarning: F-score is ill-defined and being set to 0.0 in samples with no true nor predicted labels. Use `zero_division` parameter to control this behavior.\n",
      "  _warn_prf(\n",
      "/Users/dhaneswaramandrasat/anaconda3/envs/dsnd/lib/python3.8/site-packages/sklearn/metrics/_classification.py:1514: UndefinedMetricWarning: F-score is ill-defined and being set to 0.0 in samples with no true nor predicted labels. Use `zero_division` parameter to control this behavior.\n",
      "  _warn_prf(\n",
      "/Users/dhaneswaramandrasat/anaconda3/envs/dsnd/lib/python3.8/site-packages/sklearn/metrics/_classification.py:1514: UndefinedMetricWarning: F-score is ill-defined and being set to 0.0 in samples with no true nor predicted labels. Use `zero_division` parameter to control this behavior.\n",
      "  _warn_prf(\n",
      "/Users/dhaneswaramandrasat/anaconda3/envs/dsnd/lib/python3.8/site-packages/sklearn/metrics/_classification.py:1514: UndefinedMetricWarning: F-score is ill-defined and being set to 0.0 in samples with no true nor predicted labels. Use `zero_division` parameter to control this behavior.\n",
      "  _warn_prf(\n",
      "/Users/dhaneswaramandrasat/anaconda3/envs/dsnd/lib/python3.8/site-packages/sklearn/metrics/_classification.py:1514: UndefinedMetricWarning: F-score is ill-defined and being set to 0.0 in samples with no true nor predicted labels. Use `zero_division` parameter to control this behavior.\n",
      "  _warn_prf(\n",
      "/Users/dhaneswaramandrasat/anaconda3/envs/dsnd/lib/python3.8/site-packages/sklearn/metrics/_classification.py:1272: UndefinedMetricWarning: Precision and F-score are ill-defined and being set to 0.0 in samples with no predicted labels. Use `zero_division` parameter to control this behavior.\n",
      "  _warn_prf(average, modifier, msg_start, len(result))\n",
      "/Users/dhaneswaramandrasat/anaconda3/envs/dsnd/lib/python3.8/site-packages/sklearn/metrics/_classification.py:1272: UndefinedMetricWarning: Recall and F-score are ill-defined and being set to 0.0 in samples with no true labels. Use `zero_division` parameter to control this behavior.\n",
      "  _warn_prf(average, modifier, msg_start, len(result))\n"
     ]
    },
    {
     "data": {
      "text/plain": [
       "{'related': {'precision': 0.8662435354960037,\n",
       "  'recall': 0.9189526184538653,\n",
       "  'f1-score': 0.8918199419167473,\n",
       "  'support': 4010},\n",
       " 'request': {'precision': 0.7510431154381085,\n",
       "  'recall': 0.576307363927428,\n",
       "  'f1-score': 0.6521739130434783,\n",
       "  'support': 937},\n",
       " 'offer': {'precision': 0.625,\n",
       "  'recall': 0.09259259259259259,\n",
       "  'f1-score': 0.16129032258064516,\n",
       "  'support': 54},\n",
       " 'aid_related': {'precision': 0.7245480494766888,\n",
       "  'recall': 0.6882060551287844,\n",
       "  'f1-score': 0.705909617612978,\n",
       "  'support': 2213},\n",
       " 'medical_help': {'precision': 0.5294117647058824,\n",
       "  'recall': 0.28832951945080093,\n",
       "  'f1-score': 0.37333333333333335,\n",
       "  'support': 437},\n",
       " 'medical_products': {'precision': 0.6229508196721312,\n",
       "  'recall': 0.2638888888888889,\n",
       "  'f1-score': 0.37073170731707317,\n",
       "  'support': 288},\n",
       " 'search_and_rescue': {'precision': 0.5319148936170213,\n",
       "  'recall': 0.14619883040935672,\n",
       "  'f1-score': 0.22935779816513763,\n",
       "  'support': 171},\n",
       " 'security': {'precision': 0.46153846153846156,\n",
       "  'recall': 0.05660377358490566,\n",
       "  'f1-score': 0.10084033613445378,\n",
       "  'support': 106},\n",
       " 'military': {'precision': 0.5909090909090909,\n",
       "  'recall': 0.30952380952380953,\n",
       "  'f1-score': 0.40625000000000006,\n",
       "  'support': 210},\n",
       " 'child_alone': {'precision': 0.625,\n",
       "  'recall': 0.1724137931034483,\n",
       "  'f1-score': 0.2702702702702703,\n",
       "  'support': 29},\n",
       " 'water': {'precision': 0.7262773722627737,\n",
       "  'recall': 0.5378378378378378,\n",
       "  'f1-score': 0.6180124223602483,\n",
       "  'support': 370},\n",
       " 'food': {'precision': 0.7834008097165992,\n",
       "  'recall': 0.6972972972972973,\n",
       "  'f1-score': 0.7378455672068637,\n",
       "  'support': 555},\n",
       " 'shelter': {'precision': 0.7613941018766756,\n",
       "  'recall': 0.5760649087221096,\n",
       "  'f1-score': 0.6558891454965359,\n",
       "  'support': 493},\n",
       " 'clothing': {'precision': 0.6808510638297872,\n",
       "  'recall': 0.3076923076923077,\n",
       "  'f1-score': 0.423841059602649,\n",
       "  'support': 104},\n",
       " 'money': {'precision': 0.54,\n",
       "  'recall': 0.18620689655172415,\n",
       "  'f1-score': 0.27692307692307694,\n",
       "  'support': 145},\n",
       " 'missing_people': {'precision': 0.7692307692307693,\n",
       "  'recall': 0.10752688172043011,\n",
       "  'f1-score': 0.18867924528301885,\n",
       "  'support': 93},\n",
       " 'refugees': {'precision': 0.6301369863013698,\n",
       "  'recall': 0.19913419913419914,\n",
       "  'f1-score': 0.3026315789473684,\n",
       "  'support': 231},\n",
       " 'death': {'precision': 0.7383720930232558,\n",
       "  'recall': 0.42905405405405406,\n",
       "  'f1-score': 0.5427350427350428,\n",
       "  'support': 296},\n",
       " 'other_aid': {'precision': 0.4537037037037037,\n",
       "  'recall': 0.2053072625698324,\n",
       "  'f1-score': 0.2826923076923077,\n",
       "  'support': 716},\n",
       " 'infrastructure_related': {'precision': 0.38271604938271603,\n",
       "  'recall': 0.08310991957104558,\n",
       "  'f1-score': 0.13656387665198236,\n",
       "  'support': 373},\n",
       " 'transport': {'precision': 0.6162790697674418,\n",
       "  'recall': 0.1840277777777778,\n",
       "  'f1-score': 0.28342245989304815,\n",
       "  'support': 288},\n",
       " 'buildings': {'precision': 0.6153846153846154,\n",
       "  'recall': 0.29304029304029305,\n",
       "  'f1-score': 0.39702233250620345,\n",
       "  'support': 273},\n",
       " 'electricity': {'precision': 0.5833333333333334,\n",
       "  'recall': 0.2204724409448819,\n",
       "  'f1-score': 0.32000000000000006,\n",
       "  'support': 127},\n",
       " 'tools': {'precision': 0.625,\n",
       "  'recall': 0.07575757575757576,\n",
       "  'f1-score': 0.13513513513513511,\n",
       "  'support': 66},\n",
       " 'hospitals': {'precision': 0.4444444444444444,\n",
       "  'recall': 0.09302325581395349,\n",
       "  'f1-score': 0.15384615384615385,\n",
       "  'support': 86},\n",
       " 'shops': {'precision': 0.6666666666666666,\n",
       "  'recall': 0.1276595744680851,\n",
       "  'f1-score': 0.21428571428571427,\n",
       "  'support': 47},\n",
       " 'aid_centers': {'precision': 0.5,\n",
       "  'recall': 0.06382978723404255,\n",
       "  'f1-score': 0.11320754716981131,\n",
       "  'support': 94},\n",
       " 'other_infrastructure': {'precision': 0.3157894736842105,\n",
       "  'recall': 0.045283018867924525,\n",
       "  'f1-score': 0.07920792079207921,\n",
       "  'support': 265},\n",
       " 'weather_related': {'precision': 0.830575256107171,\n",
       "  'recall': 0.6961690885072656,\n",
       "  'f1-score': 0.7574559827524255,\n",
       "  'support': 1514},\n",
       " 'floods': {'precision': 0.84,\n",
       "  'recall': 0.4925373134328358,\n",
       "  'f1-score': 0.6209677419354839,\n",
       "  'support': 469},\n",
       " 'storm': {'precision': 0.7634146341463415,\n",
       "  'recall': 0.5817843866171004,\n",
       "  'f1-score': 0.6603375527426161,\n",
       "  'support': 538},\n",
       " 'fire': {'precision': 0.88,\n",
       "  'recall': 0.2619047619047619,\n",
       "  'f1-score': 0.4036697247706422,\n",
       "  'support': 84},\n",
       " 'earthquake': {'precision': 0.9121140142517815,\n",
       "  'recall': 0.7071823204419889,\n",
       "  'f1-score': 0.7966804979253113,\n",
       "  'support': 543},\n",
       " 'cold': {'precision': 0.75,\n",
       "  'recall': 0.29508196721311475,\n",
       "  'f1-score': 0.42352941176470593,\n",
       "  'support': 122},\n",
       " 'other_weather': {'precision': 0.422680412371134,\n",
       "  'recall': 0.13945578231292516,\n",
       "  'f1-score': 0.20971867007672634,\n",
       "  'support': 294},\n",
       " 'direct_report': {'precision': 0.6635883905013192,\n",
       "  'recall': 0.47632575757575757,\n",
       "  'f1-score': 0.5545755237045203,\n",
       "  'support': 1056},\n",
       " 'micro avg': {'precision': 0.7687870047062395,\n",
       "  'recall': 0.5723003898965926,\n",
       "  'f1-score': 0.6561497845874769,\n",
       "  'support': 17697},\n",
       " 'macro avg': {'precision': 0.6451086941899861,\n",
       "  'recall': 0.322105108670139,\n",
       "  'f1-score': 0.40141258146038306,\n",
       "  'support': 17697},\n",
       " 'weighted avg': {'precision': 0.725975694016239,\n",
       "  'recall': 0.5723003898965926,\n",
       "  'f1-score': 0.619970080065996,\n",
       "  'support': 17697},\n",
       " 'samples avg': {'precision': 0.6109793847252757,\n",
       "  'recall': 0.5021699287539151,\n",
       "  'f1-score': 0.5041309049613784,\n",
       "  'support': 17697}}"
      ]
     },
     "execution_count": 8,
     "metadata": {},
     "output_type": "execute_result"
    }
   ],
   "source": [
    "X_train, X_test, y_train, y_test = train_test_split(X, y, test_size = 0.2)\n",
    "cv.fit(X_train, y_train)\n",
    "y_pred = cv.predict(X_test)\n",
    "label = list(df.drop(['id','message','original','genre'], axis=1).columns)\n",
    "classification_report(y_test, y_pred, output_dict=True, target_names=label)"
   ]
  },
  {
   "cell_type": "code",
   "execution_count": 36,
   "metadata": {},
   "outputs": [
    {
     "ename": "AttributeError",
     "evalue": "'GridSearchCV' object has no attribute 'f1_score'",
     "output_type": "error",
     "traceback": [
      "\u001b[0;31m---------------------------------------------------------------------------\u001b[0m",
      "\u001b[0;31mAttributeError\u001b[0m                            Traceback (most recent call last)",
      "\u001b[0;32m<ipython-input-36-656a867c60ff>\u001b[0m in \u001b[0;36m<module>\u001b[0;34m\u001b[0m\n\u001b[1;32m      1\u001b[0m \u001b[0;32mfrom\u001b[0m \u001b[0msklearn\u001b[0m\u001b[0;34m.\u001b[0m\u001b[0mmetrics\u001b[0m \u001b[0;32mimport\u001b[0m \u001b[0mf1_score\u001b[0m\u001b[0;34m\u001b[0m\u001b[0;34m\u001b[0m\u001b[0m\n\u001b[0;32m----> 2\u001b[0;31m \u001b[0mcv\u001b[0m\u001b[0;34m.\u001b[0m\u001b[0mf1_score\u001b[0m\u001b[0;34m(\u001b[0m\u001b[0my_test\u001b[0m\u001b[0;34m,\u001b[0m \u001b[0my_pred\u001b[0m\u001b[0;34m,\u001b[0m \u001b[0mlabels\u001b[0m\u001b[0;34m=\u001b[0m\u001b[0mlabel\u001b[0m\u001b[0;34m)\u001b[0m\u001b[0;34m\u001b[0m\u001b[0;34m\u001b[0m\u001b[0m\n\u001b[0m",
      "\u001b[0;31mAttributeError\u001b[0m: 'GridSearchCV' object has no attribute 'f1_score'"
     ]
    }
   ],
   "source": [
    "from sklearn.metrics import f1_score\n",
    "cv.f1_score(y_test, y_pred, labels=label)"
   ]
  },
  {
   "cell_type": "code",
   "execution_count": 12,
   "metadata": {},
   "outputs": [
    {
     "data": {
      "text/plain": [
       "0.6155272747140996"
      ]
     },
     "execution_count": 12,
     "metadata": {},
     "output_type": "execute_result"
    }
   ],
   "source": [
    "cv.best_score_"
   ]
  },
  {
   "cell_type": "code",
   "execution_count": 15,
   "metadata": {},
   "outputs": [
    {
     "data": {
      "text/plain": [
       "MultiOutputClassifier(estimator=LinearSVC(C=1, class_weight=None, dual=False,\n",
       "                                          fit_intercept=True,\n",
       "                                          intercept_scaling=1,\n",
       "                                          loss='squared_hinge', max_iter=1000,\n",
       "                                          multi_class='ovr', penalty='l2',\n",
       "                                          random_state=None, tol=0.0001,\n",
       "                                          verbose=0),\n",
       "                      n_jobs=None)"
      ]
     },
     "execution_count": 15,
     "metadata": {},
     "output_type": "execute_result"
    }
   ],
   "source": [
    "cv.best_estimator_.get_params()['clf']"
   ]
  },
  {
   "cell_type": "code",
   "execution_count": 16,
   "metadata": {},
   "outputs": [
    {
     "data": {
      "text/html": [
       "<div>\n",
       "<style scoped>\n",
       "    .dataframe tbody tr th:only-of-type {\n",
       "        vertical-align: middle;\n",
       "    }\n",
       "\n",
       "    .dataframe tbody tr th {\n",
       "        vertical-align: top;\n",
       "    }\n",
       "\n",
       "    .dataframe thead th {\n",
       "        text-align: right;\n",
       "    }\n",
       "</style>\n",
       "<table border=\"1\" class=\"dataframe\">\n",
       "  <thead>\n",
       "    <tr style=\"text-align: right;\">\n",
       "      <th></th>\n",
       "      <th>mean_fit_time</th>\n",
       "      <th>std_fit_time</th>\n",
       "      <th>mean_score_time</th>\n",
       "      <th>std_score_time</th>\n",
       "      <th>param_clf__estimator__C</th>\n",
       "      <th>param_features__text_pipeline__tfidf__smooth_idf</th>\n",
       "      <th>param_features__text_pipeline__vect__ngram_range</th>\n",
       "      <th>params</th>\n",
       "      <th>split0_test_f1_weighted</th>\n",
       "      <th>split1_test_f1_weighted</th>\n",
       "      <th>...</th>\n",
       "      <th>std_test_f1_micro</th>\n",
       "      <th>rank_test_f1_micro</th>\n",
       "      <th>split0_test_f1_samples</th>\n",
       "      <th>split1_test_f1_samples</th>\n",
       "      <th>split2_test_f1_samples</th>\n",
       "      <th>split3_test_f1_samples</th>\n",
       "      <th>split4_test_f1_samples</th>\n",
       "      <th>mean_test_f1_samples</th>\n",
       "      <th>std_test_f1_samples</th>\n",
       "      <th>rank_test_f1_samples</th>\n",
       "    </tr>\n",
       "  </thead>\n",
       "  <tbody>\n",
       "    <tr>\n",
       "      <th>0</th>\n",
       "      <td>114.471961</td>\n",
       "      <td>14.345203</td>\n",
       "      <td>25.203056</td>\n",
       "      <td>1.005654</td>\n",
       "      <td>1</td>\n",
       "      <td>True</td>\n",
       "      <td>(1, 1)</td>\n",
       "      <td>{'clf__estimator__C': 1, 'features__text_pipel...</td>\n",
       "      <td>0.609697</td>\n",
       "      <td>0.618791</td>\n",
       "      <td>...</td>\n",
       "      <td>0.004555</td>\n",
       "      <td>1</td>\n",
       "      <td>0.500850</td>\n",
       "      <td>0.500786</td>\n",
       "      <td>0.495602</td>\n",
       "      <td>0.506681</td>\n",
       "      <td>0.508956</td>\n",
       "      <td>0.502575</td>\n",
       "      <td>0.004741</td>\n",
       "      <td>1</td>\n",
       "    </tr>\n",
       "    <tr>\n",
       "      <th>1</th>\n",
       "      <td>109.973585</td>\n",
       "      <td>7.972863</td>\n",
       "      <td>25.061218</td>\n",
       "      <td>0.730724</td>\n",
       "      <td>1</td>\n",
       "      <td>False</td>\n",
       "      <td>(1, 1)</td>\n",
       "      <td>{'clf__estimator__C': 1, 'features__text_pipel...</td>\n",
       "      <td>0.607746</td>\n",
       "      <td>0.618406</td>\n",
       "      <td>...</td>\n",
       "      <td>0.004699</td>\n",
       "      <td>2</td>\n",
       "      <td>0.500154</td>\n",
       "      <td>0.501331</td>\n",
       "      <td>0.496023</td>\n",
       "      <td>0.504877</td>\n",
       "      <td>0.508526</td>\n",
       "      <td>0.502182</td>\n",
       "      <td>0.004249</td>\n",
       "      <td>2</td>\n",
       "    </tr>\n",
       "    <tr>\n",
       "      <th>2</th>\n",
       "      <td>109.227613</td>\n",
       "      <td>1.134708</td>\n",
       "      <td>25.537145</td>\n",
       "      <td>0.974892</td>\n",
       "      <td>5</td>\n",
       "      <td>True</td>\n",
       "      <td>(1, 1)</td>\n",
       "      <td>{'clf__estimator__C': 5, 'features__text_pipel...</td>\n",
       "      <td>0.597880</td>\n",
       "      <td>0.611394</td>\n",
       "      <td>...</td>\n",
       "      <td>0.004769</td>\n",
       "      <td>4</td>\n",
       "      <td>0.478836</td>\n",
       "      <td>0.475873</td>\n",
       "      <td>0.470917</td>\n",
       "      <td>0.474128</td>\n",
       "      <td>0.476784</td>\n",
       "      <td>0.475308</td>\n",
       "      <td>0.002669</td>\n",
       "      <td>3</td>\n",
       "    </tr>\n",
       "    <tr>\n",
       "      <th>3</th>\n",
       "      <td>120.984959</td>\n",
       "      <td>13.156697</td>\n",
       "      <td>27.182625</td>\n",
       "      <td>2.358343</td>\n",
       "      <td>5</td>\n",
       "      <td>False</td>\n",
       "      <td>(1, 1)</td>\n",
       "      <td>{'clf__estimator__C': 5, 'features__text_pipel...</td>\n",
       "      <td>0.597372</td>\n",
       "      <td>0.611624</td>\n",
       "      <td>...</td>\n",
       "      <td>0.004938</td>\n",
       "      <td>3</td>\n",
       "      <td>0.473872</td>\n",
       "      <td>0.472833</td>\n",
       "      <td>0.469236</td>\n",
       "      <td>0.474536</td>\n",
       "      <td>0.483569</td>\n",
       "      <td>0.474809</td>\n",
       "      <td>0.004747</td>\n",
       "      <td>4</td>\n",
       "    </tr>\n",
       "    <tr>\n",
       "      <th>4</th>\n",
       "      <td>131.891182</td>\n",
       "      <td>9.023587</td>\n",
       "      <td>29.801757</td>\n",
       "      <td>2.088761</td>\n",
       "      <td>10</td>\n",
       "      <td>True</td>\n",
       "      <td>(1, 1)</td>\n",
       "      <td>{'clf__estimator__C': 10, 'features__text_pipe...</td>\n",
       "      <td>0.589253</td>\n",
       "      <td>0.605591</td>\n",
       "      <td>...</td>\n",
       "      <td>0.005675</td>\n",
       "      <td>6</td>\n",
       "      <td>0.465532</td>\n",
       "      <td>0.471805</td>\n",
       "      <td>0.460955</td>\n",
       "      <td>0.462572</td>\n",
       "      <td>0.467519</td>\n",
       "      <td>0.465677</td>\n",
       "      <td>0.003818</td>\n",
       "      <td>6</td>\n",
       "    </tr>\n",
       "    <tr>\n",
       "      <th>5</th>\n",
       "      <td>123.534973</td>\n",
       "      <td>8.866063</td>\n",
       "      <td>27.424876</td>\n",
       "      <td>2.304197</td>\n",
       "      <td>10</td>\n",
       "      <td>False</td>\n",
       "      <td>(1, 1)</td>\n",
       "      <td>{'clf__estimator__C': 10, 'features__text_pipe...</td>\n",
       "      <td>0.592406</td>\n",
       "      <td>0.602759</td>\n",
       "      <td>...</td>\n",
       "      <td>0.006300</td>\n",
       "      <td>5</td>\n",
       "      <td>0.467395</td>\n",
       "      <td>0.464765</td>\n",
       "      <td>0.462466</td>\n",
       "      <td>0.470541</td>\n",
       "      <td>0.473058</td>\n",
       "      <td>0.467645</td>\n",
       "      <td>0.003817</td>\n",
       "      <td>5</td>\n",
       "    </tr>\n",
       "  </tbody>\n",
       "</table>\n",
       "<p>6 rows × 32 columns</p>\n",
       "</div>"
      ],
      "text/plain": [
       "   mean_fit_time  std_fit_time  mean_score_time  std_score_time  \\\n",
       "0     114.471961     14.345203        25.203056        1.005654   \n",
       "1     109.973585      7.972863        25.061218        0.730724   \n",
       "2     109.227613      1.134708        25.537145        0.974892   \n",
       "3     120.984959     13.156697        27.182625        2.358343   \n",
       "4     131.891182      9.023587        29.801757        2.088761   \n",
       "5     123.534973      8.866063        27.424876        2.304197   \n",
       "\n",
       "  param_clf__estimator__C param_features__text_pipeline__tfidf__smooth_idf  \\\n",
       "0                       1                                             True   \n",
       "1                       1                                            False   \n",
       "2                       5                                             True   \n",
       "3                       5                                            False   \n",
       "4                      10                                             True   \n",
       "5                      10                                            False   \n",
       "\n",
       "  param_features__text_pipeline__vect__ngram_range  \\\n",
       "0                                           (1, 1)   \n",
       "1                                           (1, 1)   \n",
       "2                                           (1, 1)   \n",
       "3                                           (1, 1)   \n",
       "4                                           (1, 1)   \n",
       "5                                           (1, 1)   \n",
       "\n",
       "                                              params  split0_test_f1_weighted  \\\n",
       "0  {'clf__estimator__C': 1, 'features__text_pipel...                 0.609697   \n",
       "1  {'clf__estimator__C': 1, 'features__text_pipel...                 0.607746   \n",
       "2  {'clf__estimator__C': 5, 'features__text_pipel...                 0.597880   \n",
       "3  {'clf__estimator__C': 5, 'features__text_pipel...                 0.597372   \n",
       "4  {'clf__estimator__C': 10, 'features__text_pipe...                 0.589253   \n",
       "5  {'clf__estimator__C': 10, 'features__text_pipe...                 0.592406   \n",
       "\n",
       "   split1_test_f1_weighted  ...  std_test_f1_micro  rank_test_f1_micro  \\\n",
       "0                 0.618791  ...           0.004555                   1   \n",
       "1                 0.618406  ...           0.004699                   2   \n",
       "2                 0.611394  ...           0.004769                   4   \n",
       "3                 0.611624  ...           0.004938                   3   \n",
       "4                 0.605591  ...           0.005675                   6   \n",
       "5                 0.602759  ...           0.006300                   5   \n",
       "\n",
       "   split0_test_f1_samples  split1_test_f1_samples  split2_test_f1_samples  \\\n",
       "0                0.500850                0.500786                0.495602   \n",
       "1                0.500154                0.501331                0.496023   \n",
       "2                0.478836                0.475873                0.470917   \n",
       "3                0.473872                0.472833                0.469236   \n",
       "4                0.465532                0.471805                0.460955   \n",
       "5                0.467395                0.464765                0.462466   \n",
       "\n",
       "   split3_test_f1_samples  split4_test_f1_samples  mean_test_f1_samples  \\\n",
       "0                0.506681                0.508956              0.502575   \n",
       "1                0.504877                0.508526              0.502182   \n",
       "2                0.474128                0.476784              0.475308   \n",
       "3                0.474536                0.483569              0.474809   \n",
       "4                0.462572                0.467519              0.465677   \n",
       "5                0.470541                0.473058              0.467645   \n",
       "\n",
       "   std_test_f1_samples  rank_test_f1_samples  \n",
       "0             0.004741                     1  \n",
       "1             0.004249                     2  \n",
       "2             0.002669                     3  \n",
       "3             0.004747                     4  \n",
       "4             0.003818                     6  \n",
       "5             0.003817                     5  \n",
       "\n",
       "[6 rows x 32 columns]"
      ]
     },
     "execution_count": 16,
     "metadata": {},
     "output_type": "execute_result"
    }
   ],
   "source": [
    "df = pd.DataFrame.from_dict(cv.cv_results_)\n",
    "df"
   ]
  },
  {
   "cell_type": "code",
   "execution_count": 17,
   "metadata": {},
   "outputs": [
    {
     "data": {
      "text/plain": [
       "0    0.615527\n",
       "1    0.614288\n",
       "2    0.605377\n",
       "3    0.605828\n",
       "4    0.598721\n",
       "5    0.600064\n",
       "Name: mean_test_f1_weighted, dtype: float64"
      ]
     },
     "execution_count": 17,
     "metadata": {},
     "output_type": "execute_result"
    }
   ],
   "source": [
    "df[\"mean_test_f1_weighted\"]"
   ]
  },
  {
   "cell_type": "code",
   "execution_count": 18,
   "metadata": {},
   "outputs": [
    {
     "data": {
      "text/plain": [
       "0    0.651767\n",
       "1    0.650982\n",
       "2    0.626388\n",
       "3    0.626485\n",
       "4    0.616008\n",
       "5    0.617639\n",
       "Name: mean_test_f1_micro, dtype: float64"
      ]
     },
     "execution_count": 18,
     "metadata": {},
     "output_type": "execute_result"
    }
   ],
   "source": [
    "df[\"mean_test_f1_micro\"]"
   ]
  },
  {
   "cell_type": "code",
   "execution_count": 20,
   "metadata": {},
   "outputs": [
    {
     "data": {
      "text/plain": [
       "0    0.502575\n",
       "1    0.502182\n",
       "2    0.475308\n",
       "3    0.474809\n",
       "4    0.465677\n",
       "5    0.467645\n",
       "Name: mean_test_f1_samples, dtype: float64"
      ]
     },
     "execution_count": 20,
     "metadata": {},
     "output_type": "execute_result"
    }
   ],
   "source": [
    "df[\"mean_test_f1_samples\"]"
   ]
  },
  {
   "cell_type": "code",
   "execution_count": 31,
   "metadata": {},
   "outputs": [],
   "source": [
    "from sklearn.metrics import multilabel_confusion_matrix"
   ]
  },
  {
   "cell_type": "code",
   "execution_count": 34,
   "metadata": {},
   "outputs": [
    {
     "data": {
      "text/plain": [
       "array([[[ 665,  569],\n",
       "        [ 325, 3685]],\n",
       "\n",
       "       [[4128,  179],\n",
       "        [ 397,  540]],\n",
       "\n",
       "       [[5187,    3],\n",
       "        [  49,    5]],\n",
       "\n",
       "       [[2452,  579],\n",
       "        [ 690, 1523]],\n",
       "\n",
       "       [[4695,  112],\n",
       "        [ 311,  126]],\n",
       "\n",
       "       [[4910,   46],\n",
       "        [ 212,   76]],\n",
       "\n",
       "       [[5051,   22],\n",
       "        [ 146,   25]],\n",
       "\n",
       "       [[5131,    7],\n",
       "        [ 100,    6]],\n",
       "\n",
       "       [[4989,   45],\n",
       "        [ 145,   65]],\n",
       "\n",
       "       [[5212,    3],\n",
       "        [  24,    5]],\n",
       "\n",
       "       [[4799,   75],\n",
       "        [ 171,  199]],\n",
       "\n",
       "       [[4582,  107],\n",
       "        [ 168,  387]],\n",
       "\n",
       "       [[4662,   89],\n",
       "        [ 209,  284]],\n",
       "\n",
       "       [[5125,   15],\n",
       "        [  72,   32]],\n",
       "\n",
       "       [[5076,   23],\n",
       "        [ 118,   27]],\n",
       "\n",
       "       [[5148,    3],\n",
       "        [  83,   10]],\n",
       "\n",
       "       [[4986,   27],\n",
       "        [ 185,   46]],\n",
       "\n",
       "       [[4903,   45],\n",
       "        [ 169,  127]],\n",
       "\n",
       "       [[4351,  177],\n",
       "        [ 569,  147]],\n",
       "\n",
       "       [[4821,   50],\n",
       "        [ 342,   31]],\n",
       "\n",
       "       [[4923,   33],\n",
       "        [ 235,   53]],\n",
       "\n",
       "       [[4921,   50],\n",
       "        [ 193,   80]],\n",
       "\n",
       "       [[5097,   20],\n",
       "        [  99,   28]],\n",
       "\n",
       "       [[5175,    3],\n",
       "        [  61,    5]],\n",
       "\n",
       "       [[5148,   10],\n",
       "        [  78,    8]],\n",
       "\n",
       "       [[5194,    3],\n",
       "        [  41,    6]],\n",
       "\n",
       "       [[5144,    6],\n",
       "        [  88,    6]],\n",
       "\n",
       "       [[4953,   26],\n",
       "        [ 253,   12]],\n",
       "\n",
       "       [[3515,  215],\n",
       "        [ 460, 1054]],\n",
       "\n",
       "       [[4731,   44],\n",
       "        [ 238,  231]],\n",
       "\n",
       "       [[4609,   97],\n",
       "        [ 225,  313]],\n",
       "\n",
       "       [[5157,    3],\n",
       "        [  62,   22]],\n",
       "\n",
       "       [[4664,   37],\n",
       "        [ 159,  384]],\n",
       "\n",
       "       [[5110,   12],\n",
       "        [  86,   36]],\n",
       "\n",
       "       [[4894,   56],\n",
       "        [ 253,   41]],\n",
       "\n",
       "       [[3933,  255],\n",
       "        [ 553,  503]]])"
      ]
     },
     "execution_count": 34,
     "metadata": {},
     "output_type": "execute_result"
    }
   ],
   "source": [
    "multilabel_confusion_matrix(y_test, y_pred)"
   ]
  },
  {
   "cell_type": "markdown",
   "metadata": {},
   "source": [
    "### 9. Export your model as a pickle file"
   ]
  },
  {
   "cell_type": "code",
   "execution_count": 37,
   "metadata": {},
   "outputs": [],
   "source": [
    "import pickle\n",
    "filename = 'model_final.pkl'\n",
    "pickle.dump(cv, open(filename, 'wb'))"
   ]
  },
  {
   "cell_type": "markdown",
   "metadata": {},
   "source": [
    "### 10. Use this notebook to complete `train.py`\n",
    "Use the template file attached in the Resources folder to write a script that runs the steps above to create a database and export a model based on a new dataset specified by the user."
   ]
  },
  {
   "cell_type": "markdown",
   "metadata": {},
   "source": [
    "Visualization"
   ]
  },
  {
   "cell_type": "code",
   "execution_count": 24,
   "metadata": {},
   "outputs": [],
   "source": [
    "import plotly.graph_objs as go"
   ]
  },
  {
   "cell_type": "code",
   "execution_count": 48,
   "metadata": {},
   "outputs": [],
   "source": [
    "y = df.groupby('genre').count()['message'].reset_index().message.tolist()"
   ]
  },
  {
   "cell_type": "code",
   "execution_count": 49,
   "metadata": {},
   "outputs": [],
   "source": [
    "x = df.groupby('genre').count()['message'].reset_index().genre.tolist()"
   ]
  },
  {
   "cell_type": "code",
   "execution_count": 60,
   "metadata": {},
   "outputs": [
    {
     "data": {
      "text/plain": [
       "['direct', 'news', 'social']"
      ]
     },
     "execution_count": 60,
     "metadata": {},
     "output_type": "execute_result"
    }
   ],
   "source": [
    "x"
   ]
  },
  {
   "cell_type": "code",
   "execution_count": 63,
   "metadata": {},
   "outputs": [],
   "source": [
    "graph_one = []\n",
    "graph_one.append(\n",
    "go.Bar(\n",
    "x = x,\n",
    "y = y\n",
    "    )\n",
    ")\n",
    "\n",
    "layout_one = dict(\n",
    "title = \"Genres Count\",\n",
    "    xaxis = dict(title = 'Genres',),\n",
    "    yaxis = dict(title = 'Count')\n",
    ")\n",
    "\n"
   ]
  },
  {
   "cell_type": "code",
   "execution_count": 64,
   "metadata": {},
   "outputs": [
    {
     "data": {
      "application/vnd.plotly.v1+json": {
       "config": {
        "plotlyServerURL": "https://plot.ly"
       },
       "data": [
        {
         "type": "bar",
         "x": [
          "direct",
          "news",
          "social"
         ],
         "y": [
          10766,
          13054,
          2396
         ]
        }
       ],
       "layout": {
        "template": {
         "data": {
          "bar": [
           {
            "error_x": {
             "color": "#2a3f5f"
            },
            "error_y": {
             "color": "#2a3f5f"
            },
            "marker": {
             "line": {
              "color": "#E5ECF6",
              "width": 0.5
             }
            },
            "type": "bar"
           }
          ],
          "barpolar": [
           {
            "marker": {
             "line": {
              "color": "#E5ECF6",
              "width": 0.5
             }
            },
            "type": "barpolar"
           }
          ],
          "carpet": [
           {
            "aaxis": {
             "endlinecolor": "#2a3f5f",
             "gridcolor": "white",
             "linecolor": "white",
             "minorgridcolor": "white",
             "startlinecolor": "#2a3f5f"
            },
            "baxis": {
             "endlinecolor": "#2a3f5f",
             "gridcolor": "white",
             "linecolor": "white",
             "minorgridcolor": "white",
             "startlinecolor": "#2a3f5f"
            },
            "type": "carpet"
           }
          ],
          "choropleth": [
           {
            "colorbar": {
             "outlinewidth": 0,
             "ticks": ""
            },
            "type": "choropleth"
           }
          ],
          "contour": [
           {
            "colorbar": {
             "outlinewidth": 0,
             "ticks": ""
            },
            "colorscale": [
             [
              0,
              "#0d0887"
             ],
             [
              0.1111111111111111,
              "#46039f"
             ],
             [
              0.2222222222222222,
              "#7201a8"
             ],
             [
              0.3333333333333333,
              "#9c179e"
             ],
             [
              0.4444444444444444,
              "#bd3786"
             ],
             [
              0.5555555555555556,
              "#d8576b"
             ],
             [
              0.6666666666666666,
              "#ed7953"
             ],
             [
              0.7777777777777778,
              "#fb9f3a"
             ],
             [
              0.8888888888888888,
              "#fdca26"
             ],
             [
              1,
              "#f0f921"
             ]
            ],
            "type": "contour"
           }
          ],
          "contourcarpet": [
           {
            "colorbar": {
             "outlinewidth": 0,
             "ticks": ""
            },
            "type": "contourcarpet"
           }
          ],
          "heatmap": [
           {
            "colorbar": {
             "outlinewidth": 0,
             "ticks": ""
            },
            "colorscale": [
             [
              0,
              "#0d0887"
             ],
             [
              0.1111111111111111,
              "#46039f"
             ],
             [
              0.2222222222222222,
              "#7201a8"
             ],
             [
              0.3333333333333333,
              "#9c179e"
             ],
             [
              0.4444444444444444,
              "#bd3786"
             ],
             [
              0.5555555555555556,
              "#d8576b"
             ],
             [
              0.6666666666666666,
              "#ed7953"
             ],
             [
              0.7777777777777778,
              "#fb9f3a"
             ],
             [
              0.8888888888888888,
              "#fdca26"
             ],
             [
              1,
              "#f0f921"
             ]
            ],
            "type": "heatmap"
           }
          ],
          "heatmapgl": [
           {
            "colorbar": {
             "outlinewidth": 0,
             "ticks": ""
            },
            "colorscale": [
             [
              0,
              "#0d0887"
             ],
             [
              0.1111111111111111,
              "#46039f"
             ],
             [
              0.2222222222222222,
              "#7201a8"
             ],
             [
              0.3333333333333333,
              "#9c179e"
             ],
             [
              0.4444444444444444,
              "#bd3786"
             ],
             [
              0.5555555555555556,
              "#d8576b"
             ],
             [
              0.6666666666666666,
              "#ed7953"
             ],
             [
              0.7777777777777778,
              "#fb9f3a"
             ],
             [
              0.8888888888888888,
              "#fdca26"
             ],
             [
              1,
              "#f0f921"
             ]
            ],
            "type": "heatmapgl"
           }
          ],
          "histogram": [
           {
            "marker": {
             "colorbar": {
              "outlinewidth": 0,
              "ticks": ""
             }
            },
            "type": "histogram"
           }
          ],
          "histogram2d": [
           {
            "colorbar": {
             "outlinewidth": 0,
             "ticks": ""
            },
            "colorscale": [
             [
              0,
              "#0d0887"
             ],
             [
              0.1111111111111111,
              "#46039f"
             ],
             [
              0.2222222222222222,
              "#7201a8"
             ],
             [
              0.3333333333333333,
              "#9c179e"
             ],
             [
              0.4444444444444444,
              "#bd3786"
             ],
             [
              0.5555555555555556,
              "#d8576b"
             ],
             [
              0.6666666666666666,
              "#ed7953"
             ],
             [
              0.7777777777777778,
              "#fb9f3a"
             ],
             [
              0.8888888888888888,
              "#fdca26"
             ],
             [
              1,
              "#f0f921"
             ]
            ],
            "type": "histogram2d"
           }
          ],
          "histogram2dcontour": [
           {
            "colorbar": {
             "outlinewidth": 0,
             "ticks": ""
            },
            "colorscale": [
             [
              0,
              "#0d0887"
             ],
             [
              0.1111111111111111,
              "#46039f"
             ],
             [
              0.2222222222222222,
              "#7201a8"
             ],
             [
              0.3333333333333333,
              "#9c179e"
             ],
             [
              0.4444444444444444,
              "#bd3786"
             ],
             [
              0.5555555555555556,
              "#d8576b"
             ],
             [
              0.6666666666666666,
              "#ed7953"
             ],
             [
              0.7777777777777778,
              "#fb9f3a"
             ],
             [
              0.8888888888888888,
              "#fdca26"
             ],
             [
              1,
              "#f0f921"
             ]
            ],
            "type": "histogram2dcontour"
           }
          ],
          "mesh3d": [
           {
            "colorbar": {
             "outlinewidth": 0,
             "ticks": ""
            },
            "type": "mesh3d"
           }
          ],
          "parcoords": [
           {
            "line": {
             "colorbar": {
              "outlinewidth": 0,
              "ticks": ""
             }
            },
            "type": "parcoords"
           }
          ],
          "pie": [
           {
            "automargin": true,
            "type": "pie"
           }
          ],
          "scatter": [
           {
            "marker": {
             "colorbar": {
              "outlinewidth": 0,
              "ticks": ""
             }
            },
            "type": "scatter"
           }
          ],
          "scatter3d": [
           {
            "line": {
             "colorbar": {
              "outlinewidth": 0,
              "ticks": ""
             }
            },
            "marker": {
             "colorbar": {
              "outlinewidth": 0,
              "ticks": ""
             }
            },
            "type": "scatter3d"
           }
          ],
          "scattercarpet": [
           {
            "marker": {
             "colorbar": {
              "outlinewidth": 0,
              "ticks": ""
             }
            },
            "type": "scattercarpet"
           }
          ],
          "scattergeo": [
           {
            "marker": {
             "colorbar": {
              "outlinewidth": 0,
              "ticks": ""
             }
            },
            "type": "scattergeo"
           }
          ],
          "scattergl": [
           {
            "marker": {
             "colorbar": {
              "outlinewidth": 0,
              "ticks": ""
             }
            },
            "type": "scattergl"
           }
          ],
          "scattermapbox": [
           {
            "marker": {
             "colorbar": {
              "outlinewidth": 0,
              "ticks": ""
             }
            },
            "type": "scattermapbox"
           }
          ],
          "scatterpolar": [
           {
            "marker": {
             "colorbar": {
              "outlinewidth": 0,
              "ticks": ""
             }
            },
            "type": "scatterpolar"
           }
          ],
          "scatterpolargl": [
           {
            "marker": {
             "colorbar": {
              "outlinewidth": 0,
              "ticks": ""
             }
            },
            "type": "scatterpolargl"
           }
          ],
          "scatterternary": [
           {
            "marker": {
             "colorbar": {
              "outlinewidth": 0,
              "ticks": ""
             }
            },
            "type": "scatterternary"
           }
          ],
          "surface": [
           {
            "colorbar": {
             "outlinewidth": 0,
             "ticks": ""
            },
            "colorscale": [
             [
              0,
              "#0d0887"
             ],
             [
              0.1111111111111111,
              "#46039f"
             ],
             [
              0.2222222222222222,
              "#7201a8"
             ],
             [
              0.3333333333333333,
              "#9c179e"
             ],
             [
              0.4444444444444444,
              "#bd3786"
             ],
             [
              0.5555555555555556,
              "#d8576b"
             ],
             [
              0.6666666666666666,
              "#ed7953"
             ],
             [
              0.7777777777777778,
              "#fb9f3a"
             ],
             [
              0.8888888888888888,
              "#fdca26"
             ],
             [
              1,
              "#f0f921"
             ]
            ],
            "type": "surface"
           }
          ],
          "table": [
           {
            "cells": {
             "fill": {
              "color": "#EBF0F8"
             },
             "line": {
              "color": "white"
             }
            },
            "header": {
             "fill": {
              "color": "#C8D4E3"
             },
             "line": {
              "color": "white"
             }
            },
            "type": "table"
           }
          ]
         },
         "layout": {
          "annotationdefaults": {
           "arrowcolor": "#2a3f5f",
           "arrowhead": 0,
           "arrowwidth": 1
          },
          "coloraxis": {
           "colorbar": {
            "outlinewidth": 0,
            "ticks": ""
           }
          },
          "colorscale": {
           "diverging": [
            [
             0,
             "#8e0152"
            ],
            [
             0.1,
             "#c51b7d"
            ],
            [
             0.2,
             "#de77ae"
            ],
            [
             0.3,
             "#f1b6da"
            ],
            [
             0.4,
             "#fde0ef"
            ],
            [
             0.5,
             "#f7f7f7"
            ],
            [
             0.6,
             "#e6f5d0"
            ],
            [
             0.7,
             "#b8e186"
            ],
            [
             0.8,
             "#7fbc41"
            ],
            [
             0.9,
             "#4d9221"
            ],
            [
             1,
             "#276419"
            ]
           ],
           "sequential": [
            [
             0,
             "#0d0887"
            ],
            [
             0.1111111111111111,
             "#46039f"
            ],
            [
             0.2222222222222222,
             "#7201a8"
            ],
            [
             0.3333333333333333,
             "#9c179e"
            ],
            [
             0.4444444444444444,
             "#bd3786"
            ],
            [
             0.5555555555555556,
             "#d8576b"
            ],
            [
             0.6666666666666666,
             "#ed7953"
            ],
            [
             0.7777777777777778,
             "#fb9f3a"
            ],
            [
             0.8888888888888888,
             "#fdca26"
            ],
            [
             1,
             "#f0f921"
            ]
           ],
           "sequentialminus": [
            [
             0,
             "#0d0887"
            ],
            [
             0.1111111111111111,
             "#46039f"
            ],
            [
             0.2222222222222222,
             "#7201a8"
            ],
            [
             0.3333333333333333,
             "#9c179e"
            ],
            [
             0.4444444444444444,
             "#bd3786"
            ],
            [
             0.5555555555555556,
             "#d8576b"
            ],
            [
             0.6666666666666666,
             "#ed7953"
            ],
            [
             0.7777777777777778,
             "#fb9f3a"
            ],
            [
             0.8888888888888888,
             "#fdca26"
            ],
            [
             1,
             "#f0f921"
            ]
           ]
          },
          "colorway": [
           "#636efa",
           "#EF553B",
           "#00cc96",
           "#ab63fa",
           "#FFA15A",
           "#19d3f3",
           "#FF6692",
           "#B6E880",
           "#FF97FF",
           "#FECB52"
          ],
          "font": {
           "color": "#2a3f5f"
          },
          "geo": {
           "bgcolor": "white",
           "lakecolor": "white",
           "landcolor": "#E5ECF6",
           "showlakes": true,
           "showland": true,
           "subunitcolor": "white"
          },
          "hoverlabel": {
           "align": "left"
          },
          "hovermode": "closest",
          "mapbox": {
           "style": "light"
          },
          "paper_bgcolor": "white",
          "plot_bgcolor": "#E5ECF6",
          "polar": {
           "angularaxis": {
            "gridcolor": "white",
            "linecolor": "white",
            "ticks": ""
           },
           "bgcolor": "#E5ECF6",
           "radialaxis": {
            "gridcolor": "white",
            "linecolor": "white",
            "ticks": ""
           }
          },
          "scene": {
           "xaxis": {
            "backgroundcolor": "#E5ECF6",
            "gridcolor": "white",
            "gridwidth": 2,
            "linecolor": "white",
            "showbackground": true,
            "ticks": "",
            "zerolinecolor": "white"
           },
           "yaxis": {
            "backgroundcolor": "#E5ECF6",
            "gridcolor": "white",
            "gridwidth": 2,
            "linecolor": "white",
            "showbackground": true,
            "ticks": "",
            "zerolinecolor": "white"
           },
           "zaxis": {
            "backgroundcolor": "#E5ECF6",
            "gridcolor": "white",
            "gridwidth": 2,
            "linecolor": "white",
            "showbackground": true,
            "ticks": "",
            "zerolinecolor": "white"
           }
          },
          "shapedefaults": {
           "line": {
            "color": "#2a3f5f"
           }
          },
          "ternary": {
           "aaxis": {
            "gridcolor": "white",
            "linecolor": "white",
            "ticks": ""
           },
           "baxis": {
            "gridcolor": "white",
            "linecolor": "white",
            "ticks": ""
           },
           "bgcolor": "#E5ECF6",
           "caxis": {
            "gridcolor": "white",
            "linecolor": "white",
            "ticks": ""
           }
          },
          "title": {
           "x": 0.05
          },
          "xaxis": {
           "automargin": true,
           "gridcolor": "white",
           "linecolor": "white",
           "ticks": "",
           "title": {
            "standoff": 15
           },
           "zerolinecolor": "white",
           "zerolinewidth": 2
          },
          "yaxis": {
           "automargin": true,
           "gridcolor": "white",
           "linecolor": "white",
           "ticks": "",
           "title": {
            "standoff": 15
           },
           "zerolinecolor": "white",
           "zerolinewidth": 2
          }
         }
        },
        "title": {
         "text": "Genres Count"
        },
        "xaxis": {
         "title": {
          "text": "Genres"
         }
        },
        "yaxis": {
         "title": {
          "text": "Count"
         }
        }
       }
      },
      "text/html": [
       "<div>\n",
       "        \n",
       "        \n",
       "            <div id=\"e22a6648-f4bb-4202-aba2-eb2fb90c0ae3\" class=\"plotly-graph-div\" style=\"height:525px; width:100%;\"></div>\n",
       "            <script type=\"text/javascript\">\n",
       "                require([\"plotly\"], function(Plotly) {\n",
       "                    window.PLOTLYENV=window.PLOTLYENV || {};\n",
       "                    \n",
       "                if (document.getElementById(\"e22a6648-f4bb-4202-aba2-eb2fb90c0ae3\")) {\n",
       "                    Plotly.newPlot(\n",
       "                        'e22a6648-f4bb-4202-aba2-eb2fb90c0ae3',\n",
       "                        [{\"type\": \"bar\", \"x\": [\"direct\", \"news\", \"social\"], \"y\": [10766, 13054, 2396]}],\n",
       "                        {\"template\": {\"data\": {\"bar\": [{\"error_x\": {\"color\": \"#2a3f5f\"}, \"error_y\": {\"color\": \"#2a3f5f\"}, \"marker\": {\"line\": {\"color\": \"#E5ECF6\", \"width\": 0.5}}, \"type\": \"bar\"}], \"barpolar\": [{\"marker\": {\"line\": {\"color\": \"#E5ECF6\", \"width\": 0.5}}, \"type\": \"barpolar\"}], \"carpet\": [{\"aaxis\": {\"endlinecolor\": \"#2a3f5f\", \"gridcolor\": \"white\", \"linecolor\": \"white\", \"minorgridcolor\": \"white\", \"startlinecolor\": \"#2a3f5f\"}, \"baxis\": {\"endlinecolor\": \"#2a3f5f\", \"gridcolor\": \"white\", \"linecolor\": \"white\", \"minorgridcolor\": \"white\", \"startlinecolor\": \"#2a3f5f\"}, \"type\": \"carpet\"}], \"choropleth\": [{\"colorbar\": {\"outlinewidth\": 0, \"ticks\": \"\"}, \"type\": \"choropleth\"}], \"contour\": [{\"colorbar\": {\"outlinewidth\": 0, \"ticks\": \"\"}, \"colorscale\": [[0.0, \"#0d0887\"], [0.1111111111111111, \"#46039f\"], [0.2222222222222222, \"#7201a8\"], [0.3333333333333333, \"#9c179e\"], [0.4444444444444444, \"#bd3786\"], [0.5555555555555556, \"#d8576b\"], [0.6666666666666666, \"#ed7953\"], [0.7777777777777778, \"#fb9f3a\"], [0.8888888888888888, \"#fdca26\"], [1.0, \"#f0f921\"]], \"type\": \"contour\"}], \"contourcarpet\": [{\"colorbar\": {\"outlinewidth\": 0, \"ticks\": \"\"}, \"type\": \"contourcarpet\"}], \"heatmap\": [{\"colorbar\": {\"outlinewidth\": 0, \"ticks\": \"\"}, \"colorscale\": [[0.0, \"#0d0887\"], [0.1111111111111111, \"#46039f\"], [0.2222222222222222, \"#7201a8\"], [0.3333333333333333, \"#9c179e\"], [0.4444444444444444, \"#bd3786\"], [0.5555555555555556, \"#d8576b\"], [0.6666666666666666, \"#ed7953\"], [0.7777777777777778, \"#fb9f3a\"], [0.8888888888888888, \"#fdca26\"], [1.0, \"#f0f921\"]], \"type\": \"heatmap\"}], \"heatmapgl\": [{\"colorbar\": {\"outlinewidth\": 0, \"ticks\": \"\"}, \"colorscale\": [[0.0, \"#0d0887\"], [0.1111111111111111, \"#46039f\"], [0.2222222222222222, \"#7201a8\"], [0.3333333333333333, \"#9c179e\"], [0.4444444444444444, \"#bd3786\"], [0.5555555555555556, \"#d8576b\"], [0.6666666666666666, \"#ed7953\"], [0.7777777777777778, \"#fb9f3a\"], [0.8888888888888888, \"#fdca26\"], [1.0, \"#f0f921\"]], \"type\": \"heatmapgl\"}], \"histogram\": [{\"marker\": {\"colorbar\": {\"outlinewidth\": 0, \"ticks\": \"\"}}, \"type\": \"histogram\"}], \"histogram2d\": [{\"colorbar\": {\"outlinewidth\": 0, \"ticks\": \"\"}, \"colorscale\": [[0.0, \"#0d0887\"], [0.1111111111111111, \"#46039f\"], [0.2222222222222222, \"#7201a8\"], [0.3333333333333333, \"#9c179e\"], [0.4444444444444444, \"#bd3786\"], [0.5555555555555556, \"#d8576b\"], [0.6666666666666666, \"#ed7953\"], [0.7777777777777778, \"#fb9f3a\"], [0.8888888888888888, \"#fdca26\"], [1.0, \"#f0f921\"]], \"type\": \"histogram2d\"}], \"histogram2dcontour\": [{\"colorbar\": {\"outlinewidth\": 0, \"ticks\": \"\"}, \"colorscale\": [[0.0, \"#0d0887\"], [0.1111111111111111, \"#46039f\"], [0.2222222222222222, \"#7201a8\"], [0.3333333333333333, \"#9c179e\"], [0.4444444444444444, \"#bd3786\"], [0.5555555555555556, \"#d8576b\"], [0.6666666666666666, \"#ed7953\"], [0.7777777777777778, \"#fb9f3a\"], [0.8888888888888888, \"#fdca26\"], [1.0, \"#f0f921\"]], \"type\": \"histogram2dcontour\"}], \"mesh3d\": [{\"colorbar\": {\"outlinewidth\": 0, \"ticks\": \"\"}, \"type\": \"mesh3d\"}], \"parcoords\": [{\"line\": {\"colorbar\": {\"outlinewidth\": 0, \"ticks\": \"\"}}, \"type\": \"parcoords\"}], \"pie\": [{\"automargin\": true, \"type\": \"pie\"}], \"scatter\": [{\"marker\": {\"colorbar\": {\"outlinewidth\": 0, \"ticks\": \"\"}}, \"type\": \"scatter\"}], \"scatter3d\": [{\"line\": {\"colorbar\": {\"outlinewidth\": 0, \"ticks\": \"\"}}, \"marker\": {\"colorbar\": {\"outlinewidth\": 0, \"ticks\": \"\"}}, \"type\": \"scatter3d\"}], \"scattercarpet\": [{\"marker\": {\"colorbar\": {\"outlinewidth\": 0, \"ticks\": \"\"}}, \"type\": \"scattercarpet\"}], \"scattergeo\": [{\"marker\": {\"colorbar\": {\"outlinewidth\": 0, \"ticks\": \"\"}}, \"type\": \"scattergeo\"}], \"scattergl\": [{\"marker\": {\"colorbar\": {\"outlinewidth\": 0, \"ticks\": \"\"}}, \"type\": \"scattergl\"}], \"scattermapbox\": [{\"marker\": {\"colorbar\": {\"outlinewidth\": 0, \"ticks\": \"\"}}, \"type\": \"scattermapbox\"}], \"scatterpolar\": [{\"marker\": {\"colorbar\": {\"outlinewidth\": 0, \"ticks\": \"\"}}, \"type\": \"scatterpolar\"}], \"scatterpolargl\": [{\"marker\": {\"colorbar\": {\"outlinewidth\": 0, \"ticks\": \"\"}}, \"type\": \"scatterpolargl\"}], \"scatterternary\": [{\"marker\": {\"colorbar\": {\"outlinewidth\": 0, \"ticks\": \"\"}}, \"type\": \"scatterternary\"}], \"surface\": [{\"colorbar\": {\"outlinewidth\": 0, \"ticks\": \"\"}, \"colorscale\": [[0.0, \"#0d0887\"], [0.1111111111111111, \"#46039f\"], [0.2222222222222222, \"#7201a8\"], [0.3333333333333333, \"#9c179e\"], [0.4444444444444444, \"#bd3786\"], [0.5555555555555556, \"#d8576b\"], [0.6666666666666666, \"#ed7953\"], [0.7777777777777778, \"#fb9f3a\"], [0.8888888888888888, \"#fdca26\"], [1.0, \"#f0f921\"]], \"type\": \"surface\"}], \"table\": [{\"cells\": {\"fill\": {\"color\": \"#EBF0F8\"}, \"line\": {\"color\": \"white\"}}, \"header\": {\"fill\": {\"color\": \"#C8D4E3\"}, \"line\": {\"color\": \"white\"}}, \"type\": \"table\"}]}, \"layout\": {\"annotationdefaults\": {\"arrowcolor\": \"#2a3f5f\", \"arrowhead\": 0, \"arrowwidth\": 1}, \"coloraxis\": {\"colorbar\": {\"outlinewidth\": 0, \"ticks\": \"\"}}, \"colorscale\": {\"diverging\": [[0, \"#8e0152\"], [0.1, \"#c51b7d\"], [0.2, \"#de77ae\"], [0.3, \"#f1b6da\"], [0.4, \"#fde0ef\"], [0.5, \"#f7f7f7\"], [0.6, \"#e6f5d0\"], [0.7, \"#b8e186\"], [0.8, \"#7fbc41\"], [0.9, \"#4d9221\"], [1, \"#276419\"]], \"sequential\": [[0.0, \"#0d0887\"], [0.1111111111111111, \"#46039f\"], [0.2222222222222222, \"#7201a8\"], [0.3333333333333333, \"#9c179e\"], [0.4444444444444444, \"#bd3786\"], [0.5555555555555556, \"#d8576b\"], [0.6666666666666666, \"#ed7953\"], [0.7777777777777778, \"#fb9f3a\"], [0.8888888888888888, \"#fdca26\"], [1.0, \"#f0f921\"]], \"sequentialminus\": [[0.0, \"#0d0887\"], [0.1111111111111111, \"#46039f\"], [0.2222222222222222, \"#7201a8\"], [0.3333333333333333, \"#9c179e\"], [0.4444444444444444, \"#bd3786\"], [0.5555555555555556, \"#d8576b\"], [0.6666666666666666, \"#ed7953\"], [0.7777777777777778, \"#fb9f3a\"], [0.8888888888888888, \"#fdca26\"], [1.0, \"#f0f921\"]]}, \"colorway\": [\"#636efa\", \"#EF553B\", \"#00cc96\", \"#ab63fa\", \"#FFA15A\", \"#19d3f3\", \"#FF6692\", \"#B6E880\", \"#FF97FF\", \"#FECB52\"], \"font\": {\"color\": \"#2a3f5f\"}, \"geo\": {\"bgcolor\": \"white\", \"lakecolor\": \"white\", \"landcolor\": \"#E5ECF6\", \"showlakes\": true, \"showland\": true, \"subunitcolor\": \"white\"}, \"hoverlabel\": {\"align\": \"left\"}, \"hovermode\": \"closest\", \"mapbox\": {\"style\": \"light\"}, \"paper_bgcolor\": \"white\", \"plot_bgcolor\": \"#E5ECF6\", \"polar\": {\"angularaxis\": {\"gridcolor\": \"white\", \"linecolor\": \"white\", \"ticks\": \"\"}, \"bgcolor\": \"#E5ECF6\", \"radialaxis\": {\"gridcolor\": \"white\", \"linecolor\": \"white\", \"ticks\": \"\"}}, \"scene\": {\"xaxis\": {\"backgroundcolor\": \"#E5ECF6\", \"gridcolor\": \"white\", \"gridwidth\": 2, \"linecolor\": \"white\", \"showbackground\": true, \"ticks\": \"\", \"zerolinecolor\": \"white\"}, \"yaxis\": {\"backgroundcolor\": \"#E5ECF6\", \"gridcolor\": \"white\", \"gridwidth\": 2, \"linecolor\": \"white\", \"showbackground\": true, \"ticks\": \"\", \"zerolinecolor\": \"white\"}, \"zaxis\": {\"backgroundcolor\": \"#E5ECF6\", \"gridcolor\": \"white\", \"gridwidth\": 2, \"linecolor\": \"white\", \"showbackground\": true, \"ticks\": \"\", \"zerolinecolor\": \"white\"}}, \"shapedefaults\": {\"line\": {\"color\": \"#2a3f5f\"}}, \"ternary\": {\"aaxis\": {\"gridcolor\": \"white\", \"linecolor\": \"white\", \"ticks\": \"\"}, \"baxis\": {\"gridcolor\": \"white\", \"linecolor\": \"white\", \"ticks\": \"\"}, \"bgcolor\": \"#E5ECF6\", \"caxis\": {\"gridcolor\": \"white\", \"linecolor\": \"white\", \"ticks\": \"\"}}, \"title\": {\"x\": 0.05}, \"xaxis\": {\"automargin\": true, \"gridcolor\": \"white\", \"linecolor\": \"white\", \"ticks\": \"\", \"title\": {\"standoff\": 15}, \"zerolinecolor\": \"white\", \"zerolinewidth\": 2}, \"yaxis\": {\"automargin\": true, \"gridcolor\": \"white\", \"linecolor\": \"white\", \"ticks\": \"\", \"title\": {\"standoff\": 15}, \"zerolinecolor\": \"white\", \"zerolinewidth\": 2}}}, \"title\": {\"text\": \"Genres Count\"}, \"xaxis\": {\"title\": {\"text\": \"Genres\"}}, \"yaxis\": {\"title\": {\"text\": \"Count\"}}},\n",
       "                        {\"responsive\": true}\n",
       "                    ).then(function(){\n",
       "                            \n",
       "var gd = document.getElementById('e22a6648-f4bb-4202-aba2-eb2fb90c0ae3');\n",
       "var x = new MutationObserver(function (mutations, observer) {{\n",
       "        var display = window.getComputedStyle(gd).display;\n",
       "        if (!display || display === 'none') {{\n",
       "            console.log([gd, 'removed!']);\n",
       "            Plotly.purge(gd);\n",
       "            observer.disconnect();\n",
       "        }}\n",
       "}});\n",
       "\n",
       "// Listen for the removal of the full notebook cells\n",
       "var notebookContainer = gd.closest('#notebook-container');\n",
       "if (notebookContainer) {{\n",
       "    x.observe(notebookContainer, {childList: true});\n",
       "}}\n",
       "\n",
       "// Listen for the clearing of the current output cell\n",
       "var outputEl = gd.closest('.output');\n",
       "if (outputEl) {{\n",
       "    x.observe(outputEl, {childList: true});\n",
       "}}\n",
       "\n",
       "                        })\n",
       "                };\n",
       "                });\n",
       "            </script>\n",
       "        </div>"
      ]
     },
     "metadata": {},
     "output_type": "display_data"
    }
   ],
   "source": [
    "fig = go.Figure(data=graph_one, layout=layout_one)\n",
    "fig.show()"
   ]
  },
  {
   "cell_type": "code",
   "execution_count": 26,
   "metadata": {},
   "outputs": [],
   "source": [
    "category_count = df.drop(['id', 'message','original','genre'], axis=1).sum(axis=0).reset_index()\n",
    "category_count.columns = ['category', 'count']\n",
    "category_count = category_count.sort_values('count')\n",
    "y = category_count.category.tolist()\n",
    "x = category_count['count'].tolist()"
   ]
  },
  {
   "cell_type": "code",
   "execution_count": 27,
   "metadata": {},
   "outputs": [
    {
     "data": {
      "application/vnd.plotly.v1+json": {
       "config": {
        "plotlyServerURL": "https://plot.ly"
       },
       "data": [
        {
         "orientation": "h",
         "type": "bar",
         "x": [
          188,
          306,
          308,
          347,
          470,
          471,
          486,
          497,
          593,
          659,
          718,
          720,
          792,
          912,
          1048,
          1063,
          1339,
          1382,
          1389,
          1501,
          1521,
          1564,
          1860,
          1893,
          2272,
          2343,
          2502,
          2631,
          2643,
          3111,
          3634,
          4662,
          5263,
          7485,
          11048,
          20094
         ],
         "y": [
          "child_alone",
          "offer",
          "shops",
          "tools",
          "fire",
          "hospitals",
          "missing_people",
          "aid_centers",
          "clothing",
          "security",
          "cold",
          "electricity",
          "money",
          "search_and_rescue",
          "military",
          "refugees",
          "other_infrastructure",
          "death",
          "transport",
          "medical_products",
          "buildings",
          "other_weather",
          "water",
          "infrastructure_related",
          "medical_help",
          "floods",
          "shelter",
          "storm",
          "earthquake",
          "food",
          "other_aid",
          "request",
          "direct_report",
          "weather_related",
          "aid_related",
          "related"
         ]
        }
       ],
       "layout": {
        "template": {
         "data": {
          "bar": [
           {
            "error_x": {
             "color": "#2a3f5f"
            },
            "error_y": {
             "color": "#2a3f5f"
            },
            "marker": {
             "line": {
              "color": "#E5ECF6",
              "width": 0.5
             }
            },
            "type": "bar"
           }
          ],
          "barpolar": [
           {
            "marker": {
             "line": {
              "color": "#E5ECF6",
              "width": 0.5
             }
            },
            "type": "barpolar"
           }
          ],
          "carpet": [
           {
            "aaxis": {
             "endlinecolor": "#2a3f5f",
             "gridcolor": "white",
             "linecolor": "white",
             "minorgridcolor": "white",
             "startlinecolor": "#2a3f5f"
            },
            "baxis": {
             "endlinecolor": "#2a3f5f",
             "gridcolor": "white",
             "linecolor": "white",
             "minorgridcolor": "white",
             "startlinecolor": "#2a3f5f"
            },
            "type": "carpet"
           }
          ],
          "choropleth": [
           {
            "colorbar": {
             "outlinewidth": 0,
             "ticks": ""
            },
            "type": "choropleth"
           }
          ],
          "contour": [
           {
            "colorbar": {
             "outlinewidth": 0,
             "ticks": ""
            },
            "colorscale": [
             [
              0,
              "#0d0887"
             ],
             [
              0.1111111111111111,
              "#46039f"
             ],
             [
              0.2222222222222222,
              "#7201a8"
             ],
             [
              0.3333333333333333,
              "#9c179e"
             ],
             [
              0.4444444444444444,
              "#bd3786"
             ],
             [
              0.5555555555555556,
              "#d8576b"
             ],
             [
              0.6666666666666666,
              "#ed7953"
             ],
             [
              0.7777777777777778,
              "#fb9f3a"
             ],
             [
              0.8888888888888888,
              "#fdca26"
             ],
             [
              1,
              "#f0f921"
             ]
            ],
            "type": "contour"
           }
          ],
          "contourcarpet": [
           {
            "colorbar": {
             "outlinewidth": 0,
             "ticks": ""
            },
            "type": "contourcarpet"
           }
          ],
          "heatmap": [
           {
            "colorbar": {
             "outlinewidth": 0,
             "ticks": ""
            },
            "colorscale": [
             [
              0,
              "#0d0887"
             ],
             [
              0.1111111111111111,
              "#46039f"
             ],
             [
              0.2222222222222222,
              "#7201a8"
             ],
             [
              0.3333333333333333,
              "#9c179e"
             ],
             [
              0.4444444444444444,
              "#bd3786"
             ],
             [
              0.5555555555555556,
              "#d8576b"
             ],
             [
              0.6666666666666666,
              "#ed7953"
             ],
             [
              0.7777777777777778,
              "#fb9f3a"
             ],
             [
              0.8888888888888888,
              "#fdca26"
             ],
             [
              1,
              "#f0f921"
             ]
            ],
            "type": "heatmap"
           }
          ],
          "heatmapgl": [
           {
            "colorbar": {
             "outlinewidth": 0,
             "ticks": ""
            },
            "colorscale": [
             [
              0,
              "#0d0887"
             ],
             [
              0.1111111111111111,
              "#46039f"
             ],
             [
              0.2222222222222222,
              "#7201a8"
             ],
             [
              0.3333333333333333,
              "#9c179e"
             ],
             [
              0.4444444444444444,
              "#bd3786"
             ],
             [
              0.5555555555555556,
              "#d8576b"
             ],
             [
              0.6666666666666666,
              "#ed7953"
             ],
             [
              0.7777777777777778,
              "#fb9f3a"
             ],
             [
              0.8888888888888888,
              "#fdca26"
             ],
             [
              1,
              "#f0f921"
             ]
            ],
            "type": "heatmapgl"
           }
          ],
          "histogram": [
           {
            "marker": {
             "colorbar": {
              "outlinewidth": 0,
              "ticks": ""
             }
            },
            "type": "histogram"
           }
          ],
          "histogram2d": [
           {
            "colorbar": {
             "outlinewidth": 0,
             "ticks": ""
            },
            "colorscale": [
             [
              0,
              "#0d0887"
             ],
             [
              0.1111111111111111,
              "#46039f"
             ],
             [
              0.2222222222222222,
              "#7201a8"
             ],
             [
              0.3333333333333333,
              "#9c179e"
             ],
             [
              0.4444444444444444,
              "#bd3786"
             ],
             [
              0.5555555555555556,
              "#d8576b"
             ],
             [
              0.6666666666666666,
              "#ed7953"
             ],
             [
              0.7777777777777778,
              "#fb9f3a"
             ],
             [
              0.8888888888888888,
              "#fdca26"
             ],
             [
              1,
              "#f0f921"
             ]
            ],
            "type": "histogram2d"
           }
          ],
          "histogram2dcontour": [
           {
            "colorbar": {
             "outlinewidth": 0,
             "ticks": ""
            },
            "colorscale": [
             [
              0,
              "#0d0887"
             ],
             [
              0.1111111111111111,
              "#46039f"
             ],
             [
              0.2222222222222222,
              "#7201a8"
             ],
             [
              0.3333333333333333,
              "#9c179e"
             ],
             [
              0.4444444444444444,
              "#bd3786"
             ],
             [
              0.5555555555555556,
              "#d8576b"
             ],
             [
              0.6666666666666666,
              "#ed7953"
             ],
             [
              0.7777777777777778,
              "#fb9f3a"
             ],
             [
              0.8888888888888888,
              "#fdca26"
             ],
             [
              1,
              "#f0f921"
             ]
            ],
            "type": "histogram2dcontour"
           }
          ],
          "mesh3d": [
           {
            "colorbar": {
             "outlinewidth": 0,
             "ticks": ""
            },
            "type": "mesh3d"
           }
          ],
          "parcoords": [
           {
            "line": {
             "colorbar": {
              "outlinewidth": 0,
              "ticks": ""
             }
            },
            "type": "parcoords"
           }
          ],
          "pie": [
           {
            "automargin": true,
            "type": "pie"
           }
          ],
          "scatter": [
           {
            "marker": {
             "colorbar": {
              "outlinewidth": 0,
              "ticks": ""
             }
            },
            "type": "scatter"
           }
          ],
          "scatter3d": [
           {
            "line": {
             "colorbar": {
              "outlinewidth": 0,
              "ticks": ""
             }
            },
            "marker": {
             "colorbar": {
              "outlinewidth": 0,
              "ticks": ""
             }
            },
            "type": "scatter3d"
           }
          ],
          "scattercarpet": [
           {
            "marker": {
             "colorbar": {
              "outlinewidth": 0,
              "ticks": ""
             }
            },
            "type": "scattercarpet"
           }
          ],
          "scattergeo": [
           {
            "marker": {
             "colorbar": {
              "outlinewidth": 0,
              "ticks": ""
             }
            },
            "type": "scattergeo"
           }
          ],
          "scattergl": [
           {
            "marker": {
             "colorbar": {
              "outlinewidth": 0,
              "ticks": ""
             }
            },
            "type": "scattergl"
           }
          ],
          "scattermapbox": [
           {
            "marker": {
             "colorbar": {
              "outlinewidth": 0,
              "ticks": ""
             }
            },
            "type": "scattermapbox"
           }
          ],
          "scatterpolar": [
           {
            "marker": {
             "colorbar": {
              "outlinewidth": 0,
              "ticks": ""
             }
            },
            "type": "scatterpolar"
           }
          ],
          "scatterpolargl": [
           {
            "marker": {
             "colorbar": {
              "outlinewidth": 0,
              "ticks": ""
             }
            },
            "type": "scatterpolargl"
           }
          ],
          "scatterternary": [
           {
            "marker": {
             "colorbar": {
              "outlinewidth": 0,
              "ticks": ""
             }
            },
            "type": "scatterternary"
           }
          ],
          "surface": [
           {
            "colorbar": {
             "outlinewidth": 0,
             "ticks": ""
            },
            "colorscale": [
             [
              0,
              "#0d0887"
             ],
             [
              0.1111111111111111,
              "#46039f"
             ],
             [
              0.2222222222222222,
              "#7201a8"
             ],
             [
              0.3333333333333333,
              "#9c179e"
             ],
             [
              0.4444444444444444,
              "#bd3786"
             ],
             [
              0.5555555555555556,
              "#d8576b"
             ],
             [
              0.6666666666666666,
              "#ed7953"
             ],
             [
              0.7777777777777778,
              "#fb9f3a"
             ],
             [
              0.8888888888888888,
              "#fdca26"
             ],
             [
              1,
              "#f0f921"
             ]
            ],
            "type": "surface"
           }
          ],
          "table": [
           {
            "cells": {
             "fill": {
              "color": "#EBF0F8"
             },
             "line": {
              "color": "white"
             }
            },
            "header": {
             "fill": {
              "color": "#C8D4E3"
             },
             "line": {
              "color": "white"
             }
            },
            "type": "table"
           }
          ]
         },
         "layout": {
          "annotationdefaults": {
           "arrowcolor": "#2a3f5f",
           "arrowhead": 0,
           "arrowwidth": 1
          },
          "coloraxis": {
           "colorbar": {
            "outlinewidth": 0,
            "ticks": ""
           }
          },
          "colorscale": {
           "diverging": [
            [
             0,
             "#8e0152"
            ],
            [
             0.1,
             "#c51b7d"
            ],
            [
             0.2,
             "#de77ae"
            ],
            [
             0.3,
             "#f1b6da"
            ],
            [
             0.4,
             "#fde0ef"
            ],
            [
             0.5,
             "#f7f7f7"
            ],
            [
             0.6,
             "#e6f5d0"
            ],
            [
             0.7,
             "#b8e186"
            ],
            [
             0.8,
             "#7fbc41"
            ],
            [
             0.9,
             "#4d9221"
            ],
            [
             1,
             "#276419"
            ]
           ],
           "sequential": [
            [
             0,
             "#0d0887"
            ],
            [
             0.1111111111111111,
             "#46039f"
            ],
            [
             0.2222222222222222,
             "#7201a8"
            ],
            [
             0.3333333333333333,
             "#9c179e"
            ],
            [
             0.4444444444444444,
             "#bd3786"
            ],
            [
             0.5555555555555556,
             "#d8576b"
            ],
            [
             0.6666666666666666,
             "#ed7953"
            ],
            [
             0.7777777777777778,
             "#fb9f3a"
            ],
            [
             0.8888888888888888,
             "#fdca26"
            ],
            [
             1,
             "#f0f921"
            ]
           ],
           "sequentialminus": [
            [
             0,
             "#0d0887"
            ],
            [
             0.1111111111111111,
             "#46039f"
            ],
            [
             0.2222222222222222,
             "#7201a8"
            ],
            [
             0.3333333333333333,
             "#9c179e"
            ],
            [
             0.4444444444444444,
             "#bd3786"
            ],
            [
             0.5555555555555556,
             "#d8576b"
            ],
            [
             0.6666666666666666,
             "#ed7953"
            ],
            [
             0.7777777777777778,
             "#fb9f3a"
            ],
            [
             0.8888888888888888,
             "#fdca26"
            ],
            [
             1,
             "#f0f921"
            ]
           ]
          },
          "colorway": [
           "#636efa",
           "#EF553B",
           "#00cc96",
           "#ab63fa",
           "#FFA15A",
           "#19d3f3",
           "#FF6692",
           "#B6E880",
           "#FF97FF",
           "#FECB52"
          ],
          "font": {
           "color": "#2a3f5f"
          },
          "geo": {
           "bgcolor": "white",
           "lakecolor": "white",
           "landcolor": "#E5ECF6",
           "showlakes": true,
           "showland": true,
           "subunitcolor": "white"
          },
          "hoverlabel": {
           "align": "left"
          },
          "hovermode": "closest",
          "mapbox": {
           "style": "light"
          },
          "paper_bgcolor": "white",
          "plot_bgcolor": "#E5ECF6",
          "polar": {
           "angularaxis": {
            "gridcolor": "white",
            "linecolor": "white",
            "ticks": ""
           },
           "bgcolor": "#E5ECF6",
           "radialaxis": {
            "gridcolor": "white",
            "linecolor": "white",
            "ticks": ""
           }
          },
          "scene": {
           "xaxis": {
            "backgroundcolor": "#E5ECF6",
            "gridcolor": "white",
            "gridwidth": 2,
            "linecolor": "white",
            "showbackground": true,
            "ticks": "",
            "zerolinecolor": "white"
           },
           "yaxis": {
            "backgroundcolor": "#E5ECF6",
            "gridcolor": "white",
            "gridwidth": 2,
            "linecolor": "white",
            "showbackground": true,
            "ticks": "",
            "zerolinecolor": "white"
           },
           "zaxis": {
            "backgroundcolor": "#E5ECF6",
            "gridcolor": "white",
            "gridwidth": 2,
            "linecolor": "white",
            "showbackground": true,
            "ticks": "",
            "zerolinecolor": "white"
           }
          },
          "shapedefaults": {
           "line": {
            "color": "#2a3f5f"
           }
          },
          "ternary": {
           "aaxis": {
            "gridcolor": "white",
            "linecolor": "white",
            "ticks": ""
           },
           "baxis": {
            "gridcolor": "white",
            "linecolor": "white",
            "ticks": ""
           },
           "bgcolor": "#E5ECF6",
           "caxis": {
            "gridcolor": "white",
            "linecolor": "white",
            "ticks": ""
           }
          },
          "title": {
           "x": 0.05
          },
          "xaxis": {
           "automargin": true,
           "gridcolor": "white",
           "linecolor": "white",
           "ticks": "",
           "title": {
            "standoff": 15
           },
           "zerolinecolor": "white",
           "zerolinewidth": 2
          },
          "yaxis": {
           "automargin": true,
           "gridcolor": "white",
           "linecolor": "white",
           "ticks": "",
           "title": {
            "standoff": 15
           },
           "zerolinecolor": "white",
           "zerolinewidth": 2
          }
         }
        },
        "title": {
         "text": "Categories Count"
        },
        "xaxis": {
         "title": {
          "text": "Count"
         }
        },
        "yaxis": {
         "title": {
          "text": "Categories"
         }
        }
       }
      }
     },
     "metadata": {},
     "output_type": "display_data"
    }
   ],
   "source": [
    "graph_two = []\n",
    "graph_two.append(\n",
    "go.Bar(\n",
    "x = x,\n",
    "y = y,\n",
    "orientation='h'\n",
    "    )\n",
    ")\n",
    "\n",
    "layout_two = dict(\n",
    "title = \"Categories Count\",\n",
    "    xaxis = dict(title = 'Count',),\n",
    "    yaxis = dict(title = 'Categories')\n",
    ")\n",
    "\n",
    "fig = go.Figure(data=graph_two, layout=layout_two)\n",
    "fig.show()"
   ]
  }
 ],
 "metadata": {
  "kernelspec": {
   "display_name": "dsnd",
   "language": "python",
   "name": "dsnd"
  },
  "language_info": {
   "codemirror_mode": {
    "name": "ipython",
    "version": 3
   },
   "file_extension": ".py",
   "mimetype": "text/x-python",
   "name": "python",
   "nbconvert_exporter": "python",
   "pygments_lexer": "ipython3",
   "version": "3.8.2-final"
  }
 },
 "nbformat": 4,
 "nbformat_minor": 4
}